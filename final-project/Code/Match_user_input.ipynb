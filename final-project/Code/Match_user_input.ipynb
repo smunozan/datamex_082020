{
 "cells": [
  {
   "cell_type": "markdown",
   "metadata": {},
   "source": [
    "# Final project: \n",
    "# Step 4: User input"
   ]
  },
  {
   "cell_type": "markdown",
   "metadata": {},
   "source": [
    "### 1. We will match the user input with the cities from the table"
   ]
  },
  {
   "cell_type": "code",
   "execution_count": 206,
   "metadata": {},
   "outputs": [],
   "source": [
    "#Importar librerias necesarias\n",
    "import pandas as pd\n",
    "import fuzzywuzzy as fw\n",
    "import rapidfuzz as rf"
   ]
  },
  {
   "cell_type": "code",
   "execution_count": 90,
   "metadata": {},
   "outputs": [],
   "source": [
    "#llamamos el csv con los datos\n",
    "cities_lst = pd.read_csv('../data/cities_for_user_input.csv')"
   ]
  },
  {
   "cell_type": "code",
   "execution_count": 91,
   "metadata": {},
   "outputs": [
    {
     "data": {
      "text/html": [
       "<div>\n",
       "<style scoped>\n",
       "    .dataframe tbody tr th:only-of-type {\n",
       "        vertical-align: middle;\n",
       "    }\n",
       "\n",
       "    .dataframe tbody tr th {\n",
       "        vertical-align: top;\n",
       "    }\n",
       "\n",
       "    .dataframe thead th {\n",
       "        text-align: right;\n",
       "    }\n",
       "</style>\n",
       "<table border=\"1\" class=\"dataframe\">\n",
       "  <thead>\n",
       "    <tr style=\"text-align: right;\">\n",
       "      <th></th>\n",
       "      <th>City</th>\n",
       "      <th>City-Country_EN</th>\n",
       "    </tr>\n",
       "  </thead>\n",
       "  <tbody>\n",
       "    <tr>\n",
       "      <th>0</th>\n",
       "      <td>Lisbon</td>\n",
       "      <td>Lisbon, Portugal</td>\n",
       "    </tr>\n",
       "    <tr>\n",
       "      <th>1</th>\n",
       "      <td>Canggu, Bali</td>\n",
       "      <td>Canggu, Bali, Indonesia</td>\n",
       "    </tr>\n",
       "    <tr>\n",
       "      <th>2</th>\n",
       "      <td>Mexico City</td>\n",
       "      <td>Mexico City, Mexico</td>\n",
       "    </tr>\n",
       "    <tr>\n",
       "      <th>3</th>\n",
       "      <td>Chiang Mai</td>\n",
       "      <td>Chiang Mai, Thailand</td>\n",
       "    </tr>\n",
       "    <tr>\n",
       "      <th>4</th>\n",
       "      <td>Belgrade</td>\n",
       "      <td>Belgrade, Serbia</td>\n",
       "    </tr>\n",
       "  </tbody>\n",
       "</table>\n",
       "</div>"
      ],
      "text/plain": [
       "           City          City-Country_EN\n",
       "0        Lisbon         Lisbon, Portugal\n",
       "1  Canggu, Bali  Canggu, Bali, Indonesia\n",
       "2   Mexico City      Mexico City, Mexico\n",
       "3    Chiang Mai     Chiang Mai, Thailand\n",
       "4      Belgrade         Belgrade, Serbia"
      ]
     },
     "execution_count": 91,
     "metadata": {},
     "output_type": "execute_result"
    }
   ],
   "source": [
    "#muestra de la tabla\n",
    "cities_lst.head()"
   ]
  },
  {
   "cell_type": "code",
   "execution_count": 363,
   "metadata": {},
   "outputs": [],
   "source": [
    "#función para generar el match de las ciudades en una sola ejecución\n",
    "def find_best_match(misspelled):\n",
    "    #Importar librerias necesarias\n",
    "    import pandas as pd\n",
    "    import fuzzywuzzy as fw\n",
    "\n",
    "    #llamamos el csv con los datos\n",
    "    cities_lst = pd.read_csv('../data/cities_for_user_input.csv')\n",
    "    lista = [x.lower() for x in list(cities_lst[\"City\"])]\n",
    "        \n",
    "    #lista con las ciudades finales\n",
    "    input_user = []\n",
    "    for i in misspelled:\n",
    "        closest, ratio = rf.process.extractOne(i.lower(), lista)\n",
    "        indice = lista.index(closest)\n",
    "        city_country = cities_lst.loc[indice,'City-Country_EN']\n",
    "        #print(i, city_country, ratio)\n",
    "        if ratio>90 and city_country not in input_user:\n",
    "            input_user.append(city_country)\n",
    "    return input_user"
   ]
  },
  {
   "cell_type": "code",
   "execution_count": 375,
   "metadata": {},
   "outputs": [
    {
     "name": "stdout",
     "output_type": "stream",
     "text": [
      "CPU times: user 146 ms, sys: 2.87 ms, total: 149 ms\n",
      "Wall time: 148 ms\n"
     ]
    },
    {
     "data": {
      "text/plain": [
       "['La Paz, Bolivia',\n",
       " 'Lisbon, Portugal',\n",
       " 'Mexico City, Mexico',\n",
       " 'Ko Tao, Thailand',\n",
       " 'Madrid, Spain',\n",
       " 'Cuenca, Ecuador']"
      ]
     },
     "execution_count": 375,
     "metadata": {},
     "output_type": "execute_result"
    }
   ],
   "source": [
    "%%time\n",
    "#prueba de la función\n",
    "prueba = ['Isla galapagos','paz mex','La paz bolivia','Venecia, it','Lisboa','Ciudad de mexico','koh tao', 'madrid españa', 'cuenca']\n",
    "\n",
    "input_cities = find_best_match(prueba)\n",
    "input_cities"
   ]
  },
  {
   "cell_type": "code",
   "execution_count": 373,
   "metadata": {},
   "outputs": [
    {
     "name": "stdout",
     "output_type": "stream",
     "text": [
      "CPU times: user 2.69 s, sys: 11.5 ms, total: 2.7 s\n",
      "Wall time: 2.72 s\n"
     ]
    },
    {
     "data": {
      "text/plain": [
       "['Atlanta, GA, United States',\n",
       " 'Boston, MA, United States',\n",
       " 'Brussels, Belgium',\n",
       " 'Chicago, IL, United States',\n",
       " 'Chongqing, China',\n",
       " 'Cologne, Germany',\n",
       " 'Dallas, TX, United States',\n",
       " 'Philadelphia, PA, United States',\n",
       " 'Frankfurt, Germany',\n",
       " 'Houston, TX, United States',\n",
       " 'London, United Kingdom',\n",
       " 'Madrid, Spain',\n",
       " 'Miami, FL, United States',\n",
       " 'Milan, Italy',\n",
       " 'Moscow, Russia',\n",
       " 'Nagoya, Japan',\n",
       " 'York, United Kingdom',\n",
       " 'Osaka, Japan',\n",
       " 'Paris, France',\n",
       " 'San Francisco, CA, United States',\n",
       " 'Seattle, WA, United States',\n",
       " 'Seoul, South Korea',\n",
       " 'Shanghai, China',\n",
       " 'Shenzhen, China',\n",
       " 'Singapore, Singapore',\n",
       " 'Sydney, Australia',\n",
       " 'Tokyo, Japan',\n",
       " 'Toronto, Canada',\n",
       " 'Washington, DC, United States',\n",
       " 'Amsterdam, Netherlands',\n",
       " 'Buenos Aires, Argentina',\n",
       " 'San Antonio, TX, United States',\n",
       " 'Mexico City, Mexico',\n",
       " 'Hong Kong, Hong Kong',\n",
       " 'Los Angeles, CA, United States',\n",
       " 'São Paulo, Brazil']"
      ]
     },
     "execution_count": 373,
     "metadata": {},
     "output_type": "execute_result"
    }
   ],
   "source": [
    "%%time\n",
    "#prueba 2 de la función\n",
    "prueba = ['ciudades', 'servir', 'proyecto', 'Atlanta', 'banco', 'Boston', 'Bruselas',\n",
    "                 'viendo', 'diciendo', 'pura', 'huevada', 'funciona', 'sistema', 'Buenos',\n",
    "                 'Aires', 'bus', 'San', 'Antonio', 'to', 'Chicago', 'chongqing', 'Ciudad',\n",
    "                 'México', 'colonia', 'Dallas', 'Deli', 'Estambul', 'Filadelfia', 'Frankfurt',\n",
    "                 'Hong', 'Kong', 'Houston', 'Londres', 'Los', 'Angeles', 'Madrid', 'Miami', \n",
    "                 'voy', 'sentido', 'Millán', 'Milán', 'Moscú', 'Múnich', 'nagoya', 'nagoya', \n",
    "                 'nagoya', 'Nueva', 'York', 'osaka', 'nagoya', 'Nueva', 'York', 'osaka', \n",
    "                 'París', 'Pekín', 'San', 'Francisco', 'Seattle', 'seúl', 'Shanghai', \n",
    "                 'shenzhen', 'Singapur', 'show', 'Sao', 'Paulo', 'cine', 'Sushi', 'Sao', \n",
    "                 'Paulo', 'Sydney', 'type', 'engine', 'Tokio', 'Toronto', 'Washington', \n",
    "                 'DC', 'yakarta', 'amsterdam', 'ciudades servir', 'servir proyecto', \n",
    "                 'proyecto Atlanta', 'Atlanta banco', 'banco Boston', 'Boston Bruselas', \n",
    "                 'Bruselas viendo', 'viendo diciendo', 'diciendo pura', 'pura huevada', \n",
    "                 'huevada funciona', 'funciona sistema', 'sistema Buenos', 'Buenos Aires', \n",
    "                 'Aires bus', 'bus San', 'San Antonio', 'Antonio to', 'to Chicago', \n",
    "                 'Chicago chongqing', 'chongqing Ciudad', 'Ciudad México', 'México colonia', \n",
    "                 'colonia Dallas', 'Dallas Deli', 'Deli Estambul', 'Estambul Filadelfia', \n",
    "                 'Filadelfia Frankfurt', 'Frankfurt Hong', 'Hong Kong', 'Kong Houston', \n",
    "                 'Houston Londres', 'Londres Los', 'Los Angeles', 'Angeles Madrid', \n",
    "                 'Madrid Miami', 'Miami voy', 'voy sentido', 'sentido Millán', 'Millán Milán',\n",
    "                 'Milán Moscú', 'Moscú Múnich', 'Múnich nagoya', 'nagoya nagoya', \n",
    "                 'nagoya nagoya', 'nagoya Nueva', 'Nueva York', 'York osaka', 'osaka nagoya', \n",
    "                 'nagoya Nueva', 'Nueva York', 'York osaka', 'osaka París', 'París Pekín', \n",
    "                 'Pekín San', 'San Francisco', 'Francisco Seattle', 'Seattle seúl', \n",
    "                 'seúl Shanghai', 'Shanghai shenzhen', 'shenzhen Singapur', 'Singapur show', \n",
    "                 'show Sao', 'Sao Paulo', 'Paulo cine', 'cine Sushi', 'Sushi Sao', \n",
    "                 'Sao Paulo', 'Paulo Sydney', 'Sydney type', 'type engine', 'engine Tokio', \n",
    "                 'Tokio Toronto', 'Toronto Washington', 'Washington DC', 'DC yakarta', \n",
    "                 'yakarta amsterdam']\n",
    "\n",
    "\n",
    "input_cities = find_best_match(prueba)\n",
    "input_cities"
   ]
  },
  {
   "cell_type": "code",
   "execution_count": 376,
   "metadata": {},
   "outputs": [
    {
     "data": {
      "text/plain": [
       "['Venice, Italy', 'Lisbon, Portugal', 'Bogota, Colombia', 'Vienna, Austria']"
      ]
     },
     "execution_count": 376,
     "metadata": {},
     "output_type": "execute_result"
    }
   ],
   "source": [
    "prueba = ['Venecia',\n",
    "          'Lisboa',\n",
    "          'Bogotá',\n",
    "          'Colombia',\n",
    "          'Viena',\n",
    "          'Venecia Lisboa',\n",
    "          'Lisboa Bogotá',\n",
    "          'Bogotá Colombia',\n",
    "          'Colombia Viena']\n",
    "\n",
    "input_cities = find_best_match(prueba)\n",
    "input_cities"
   ]
  },
  {
   "cell_type": "code",
   "execution_count": null,
   "metadata": {},
   "outputs": [],
   "source": []
  }
 ],
 "metadata": {
  "kernelspec": {
   "display_name": "Python 3",
   "language": "python",
   "name": "python3"
  },
  "language_info": {
   "codemirror_mode": {
    "name": "ipython",
    "version": 3
   },
   "file_extension": ".py",
   "mimetype": "text/x-python",
   "name": "python",
   "nbconvert_exporter": "python",
   "pygments_lexer": "ipython3",
   "version": "3.8.5"
  }
 },
 "nbformat": 4,
 "nbformat_minor": 4
}
