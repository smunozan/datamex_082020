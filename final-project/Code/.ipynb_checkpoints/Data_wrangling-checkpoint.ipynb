{
 "cells": [
  {
   "cell_type": "markdown",
   "metadata": {},
   "source": [
    "# Final project: \n",
    "# Step 2: Data wrangling"
   ]
  },
  {
   "cell_type": "code",
   "execution_count": 255,
   "metadata": {},
   "outputs": [],
   "source": [
    "#importar librerias\n",
    "import pandas as pd\n",
    "from tqdm import tqdm\n",
    "import time\n",
    "import math\n",
    "\n",
    "import warnings\n",
    "from pandas.core.common import SettingWithCopyWarning\n",
    "warnings.simplefilter(action=\"ignore\", category=SettingWithCopyWarning)\n",
    "\n",
    "from opencage.geocoder import OpenCageGeocode"
   ]
  },
  {
   "cell_type": "markdown",
   "metadata": {},
   "source": [
    "### 1. Cities csv scraped from Nomad list (clean and add information to the table)"
   ]
  },
  {
   "cell_type": "code",
   "execution_count": 9,
   "metadata": {},
   "outputs": [
    {
     "data": {
      "text/html": [
       "<div>\n",
       "<style scoped>\n",
       "    .dataframe tbody tr th:only-of-type {\n",
       "        vertical-align: middle;\n",
       "    }\n",
       "\n",
       "    .dataframe tbody tr th {\n",
       "        vertical-align: top;\n",
       "    }\n",
       "\n",
       "    .dataframe thead th {\n",
       "        text-align: right;\n",
       "    }\n",
       "</style>\n",
       "<table border=\"1\" class=\"dataframe\">\n",
       "  <thead>\n",
       "    <tr style=\"text-align: right;\">\n",
       "      <th></th>\n",
       "      <th>City</th>\n",
       "      <th>Country</th>\n",
       "      <th>Photo</th>\n",
       "      <th>Overall Score</th>\n",
       "      <th>Quality of life score</th>\n",
       "      <th>Family score</th>\n",
       "      <th>Cost/month (USD)</th>\n",
       "      <th>Internet Mbps</th>\n",
       "      <th>Fun</th>\n",
       "      <th>Safety</th>\n",
       "      <th>...</th>\n",
       "      <th>Temperature (°C) Mar</th>\n",
       "      <th>Temperature (°C) Apr</th>\n",
       "      <th>Temperature (°C) May</th>\n",
       "      <th>Temperature (°C) Jun</th>\n",
       "      <th>Temperature (°C) Jul</th>\n",
       "      <th>Temperature (°C) Aug</th>\n",
       "      <th>Temperature (°C) Sep</th>\n",
       "      <th>Temperature (°C) Oct</th>\n",
       "      <th>Temperature (°C) Nov</th>\n",
       "      <th>Temperature (°C) Dec</th>\n",
       "    </tr>\n",
       "  </thead>\n",
       "  <tbody>\n",
       "    <tr>\n",
       "      <th>0</th>\n",
       "      <td>Lisbon</td>\n",
       "      <td>Portugal</td>\n",
       "      <td>https://nomadlist.com/assets/img/places/lisbon...</td>\n",
       "      <td>4.68</td>\n",
       "      <td>4</td>\n",
       "      <td>4</td>\n",
       "      <td>2006.0</td>\n",
       "      <td>27.0</td>\n",
       "      <td>4.0</td>\n",
       "      <td>Great</td>\n",
       "      <td>...</td>\n",
       "      <td>19</td>\n",
       "      <td>18</td>\n",
       "      <td>22</td>\n",
       "      <td>21</td>\n",
       "      <td>23</td>\n",
       "      <td>25</td>\n",
       "      <td>24</td>\n",
       "      <td>21</td>\n",
       "      <td>17</td>\n",
       "      <td>16</td>\n",
       "    </tr>\n",
       "    <tr>\n",
       "      <th>1</th>\n",
       "      <td>Canggu, Bali</td>\n",
       "      <td>Indonesia</td>\n",
       "      <td>https://nomadlist.com/assets/img/places/canggu...</td>\n",
       "      <td>4.61</td>\n",
       "      <td>4</td>\n",
       "      <td>4</td>\n",
       "      <td>1247.0</td>\n",
       "      <td>19.0</td>\n",
       "      <td>4.0</td>\n",
       "      <td>Great</td>\n",
       "      <td>...</td>\n",
       "      <td>30</td>\n",
       "      <td>30</td>\n",
       "      <td>30</td>\n",
       "      <td>28</td>\n",
       "      <td>27</td>\n",
       "      <td>27</td>\n",
       "      <td>27</td>\n",
       "      <td>29</td>\n",
       "      <td>30</td>\n",
       "      <td>31</td>\n",
       "    </tr>\n",
       "    <tr>\n",
       "      <th>2</th>\n",
       "      <td>Mexico City</td>\n",
       "      <td>Mexico</td>\n",
       "      <td>https://nomadlist.com/assets/img/places/mexico...</td>\n",
       "      <td>4.46</td>\n",
       "      <td>4</td>\n",
       "      <td>3</td>\n",
       "      <td>1278.0</td>\n",
       "      <td>19.0</td>\n",
       "      <td>4.0</td>\n",
       "      <td>Okay</td>\n",
       "      <td>...</td>\n",
       "      <td>24</td>\n",
       "      <td>24</td>\n",
       "      <td>25</td>\n",
       "      <td>22</td>\n",
       "      <td>21</td>\n",
       "      <td>22</td>\n",
       "      <td>21</td>\n",
       "      <td>21</td>\n",
       "      <td>21</td>\n",
       "      <td>20</td>\n",
       "    </tr>\n",
       "    <tr>\n",
       "      <th>3</th>\n",
       "      <td>Chiang Mai</td>\n",
       "      <td>Thailand</td>\n",
       "      <td>https://nomadlist.com/assets/img/places/chiang...</td>\n",
       "      <td>4.45</td>\n",
       "      <td>4</td>\n",
       "      <td>3</td>\n",
       "      <td>1056.0</td>\n",
       "      <td>24.0</td>\n",
       "      <td>4.0</td>\n",
       "      <td>Great</td>\n",
       "      <td>...</td>\n",
       "      <td>36</td>\n",
       "      <td>37</td>\n",
       "      <td>35</td>\n",
       "      <td>32</td>\n",
       "      <td>31</td>\n",
       "      <td>31</td>\n",
       "      <td>31</td>\n",
       "      <td>31</td>\n",
       "      <td>30</td>\n",
       "      <td>28</td>\n",
       "    </tr>\n",
       "    <tr>\n",
       "      <th>4</th>\n",
       "      <td>Belgrade</td>\n",
       "      <td>Serbia</td>\n",
       "      <td>https://nomadlist.com/assets/img/places/belgra...</td>\n",
       "      <td>4.45</td>\n",
       "      <td>4</td>\n",
       "      <td>4</td>\n",
       "      <td>1423.0</td>\n",
       "      <td>29.0</td>\n",
       "      <td>4.0</td>\n",
       "      <td>Good</td>\n",
       "      <td>...</td>\n",
       "      <td>15</td>\n",
       "      <td>18</td>\n",
       "      <td>20</td>\n",
       "      <td>28</td>\n",
       "      <td>28</td>\n",
       "      <td>32</td>\n",
       "      <td>26</td>\n",
       "      <td>23</td>\n",
       "      <td>16</td>\n",
       "      <td>8</td>\n",
       "    </tr>\n",
       "  </tbody>\n",
       "</table>\n",
       "<p>5 rows × 44 columns</p>\n",
       "</div>"
      ],
      "text/plain": [
       "           City    Country                                              Photo  \\\n",
       "0        Lisbon   Portugal  https://nomadlist.com/assets/img/places/lisbon...   \n",
       "1  Canggu, Bali  Indonesia  https://nomadlist.com/assets/img/places/canggu...   \n",
       "2   Mexico City     Mexico  https://nomadlist.com/assets/img/places/mexico...   \n",
       "3    Chiang Mai   Thailand  https://nomadlist.com/assets/img/places/chiang...   \n",
       "4      Belgrade     Serbia  https://nomadlist.com/assets/img/places/belgra...   \n",
       "\n",
       "   Overall Score  Quality of life score  Family score  Cost/month (USD)  \\\n",
       "0           4.68                      4             4            2006.0   \n",
       "1           4.61                      4             4            1247.0   \n",
       "2           4.46                      4             3            1278.0   \n",
       "3           4.45                      4             3            1056.0   \n",
       "4           4.45                      4             4            1423.0   \n",
       "\n",
       "   Internet Mbps  Fun Safety  ...  Temperature (°C) Mar  Temperature (°C) Apr  \\\n",
       "0           27.0  4.0  Great  ...                    19                    18   \n",
       "1           19.0  4.0  Great  ...                    30                    30   \n",
       "2           19.0  4.0   Okay  ...                    24                    24   \n",
       "3           24.0  4.0  Great  ...                    36                    37   \n",
       "4           29.0  4.0   Good  ...                    15                    18   \n",
       "\n",
       "   Temperature (°C) May  Temperature (°C) Jun  Temperature (°C) Jul  \\\n",
       "0                    22                    21                    23   \n",
       "1                    30                    28                    27   \n",
       "2                    25                    22                    21   \n",
       "3                    35                    32                    31   \n",
       "4                    20                    28                    28   \n",
       "\n",
       "   Temperature (°C) Aug  Temperature (°C) Sep  Temperature (°C) Oct  \\\n",
       "0                    25                    24                    21   \n",
       "1                    27                    27                    29   \n",
       "2                    22                    21                    21   \n",
       "3                    31                    31                    31   \n",
       "4                    32                    26                    23   \n",
       "\n",
       "   Temperature (°C) Nov  Temperature (°C) Dec  \n",
       "0                    17                    16  \n",
       "1                    30                    31  \n",
       "2                    21                    20  \n",
       "3                    30                    28  \n",
       "4                    16                     8  \n",
       "\n",
       "[5 rows x 44 columns]"
      ]
     },
     "execution_count": 9,
     "metadata": {},
     "output_type": "execute_result"
    }
   ],
   "source": [
    "#importamos csv de ciudades escrapeado de Nomad list\n",
    "cities = pd.read_csv('../data/nomadlist_cities.csv').drop('Unnamed: 0', axis=1)\n",
    "\n",
    "#muestra de la tabla\n",
    "cities.head()"
   ]
  },
  {
   "cell_type": "code",
   "execution_count": 295,
   "metadata": {},
   "outputs": [
    {
     "name": "stderr",
     "output_type": "stream",
     "text": [
      " 88%|████████▊ | 1155/1310 [23:36<02:30,  1.03it/s]"
     ]
    },
    {
     "name": "stdout",
     "output_type": "stream",
     "text": [
      "1164 Sa Pa, Vietnam\n"
     ]
    },
    {
     "name": "stderr",
     "output_type": "stream",
     "text": [
      "\r",
      " 88%|████████▊ | 1156/1310 [23:37<02:10,  1.18it/s]"
     ]
    },
    {
     "name": "stdout",
     "output_type": "stream",
     "text": [
      "1165 St. George, UT, United States\n"
     ]
    },
    {
     "name": "stderr",
     "output_type": "stream",
     "text": [
      "\r",
      " 88%|████████▊ | 1157/1310 [23:38<01:55,  1.32it/s]"
     ]
    },
    {
     "name": "stdout",
     "output_type": "stream",
     "text": [
      "1166 Mandalay, Myanmar\n"
     ]
    },
    {
     "name": "stderr",
     "output_type": "stream",
     "text": [
      "\r",
      " 88%|████████▊ | 1158/1310 [23:38<01:50,  1.37it/s]"
     ]
    },
    {
     "name": "stdout",
     "output_type": "stream",
     "text": [
      "1167 Ningbo, China\n"
     ]
    },
    {
     "name": "stderr",
     "output_type": "stream",
     "text": [
      "\r",
      " 88%|████████▊ | 1159/1310 [23:39<01:43,  1.46it/s]"
     ]
    },
    {
     "name": "stdout",
     "output_type": "stream",
     "text": [
      "1168 Pristina, Kosovo\n"
     ]
    },
    {
     "name": "stderr",
     "output_type": "stream",
     "text": [
      "\r",
      " 89%|████████▊ | 1160/1310 [23:39<01:36,  1.55it/s]"
     ]
    },
    {
     "name": "stdout",
     "output_type": "stream",
     "text": [
      "1169 Vientiane, Laos\n"
     ]
    },
    {
     "name": "stderr",
     "output_type": "stream",
     "text": [
      "\r",
      " 89%|████████▊ | 1161/1310 [23:40<01:31,  1.63it/s]"
     ]
    },
    {
     "name": "stdout",
     "output_type": "stream",
     "text": [
      "1170 Hartford, CT, United States\n"
     ]
    },
    {
     "name": "stderr",
     "output_type": "stream",
     "text": [
      "\r",
      " 89%|████████▊ | 1162/1310 [23:42<02:16,  1.08it/s]"
     ]
    },
    {
     "name": "stdout",
     "output_type": "stream",
     "text": [
      "1171 Almere, Netherlands\n"
     ]
    },
    {
     "name": "stderr",
     "output_type": "stream",
     "text": [
      "\r",
      " 89%|████████▉ | 1163/1310 [23:42<01:59,  1.23it/s]"
     ]
    },
    {
     "name": "stdout",
     "output_type": "stream",
     "text": [
      "1172 Praia, Cape Verde\n"
     ]
    },
    {
     "name": "stderr",
     "output_type": "stream",
     "text": [
      "\r",
      " 89%|████████▉ | 1164/1310 [23:43<01:47,  1.36it/s]"
     ]
    },
    {
     "name": "stdout",
     "output_type": "stream",
     "text": [
      "1173 Marbella, Spain\n"
     ]
    },
    {
     "name": "stderr",
     "output_type": "stream",
     "text": [
      "\r",
      " 89%|████████▉ | 1165/1310 [23:43<01:38,  1.47it/s]"
     ]
    },
    {
     "name": "stdout",
     "output_type": "stream",
     "text": [
      "1174 Ithaca, NY, United States\n"
     ]
    },
    {
     "name": "stderr",
     "output_type": "stream",
     "text": [
      "\r",
      " 89%|████████▉ | 1166/1310 [23:44<01:31,  1.57it/s]"
     ]
    },
    {
     "name": "stdout",
     "output_type": "stream",
     "text": [
      "1175 Richmond, VA, United States\n"
     ]
    },
    {
     "name": "stderr",
     "output_type": "stream",
     "text": [
      "\r",
      " 89%|████████▉ | 1167/1310 [23:44<01:28,  1.62it/s]"
     ]
    },
    {
     "name": "stdout",
     "output_type": "stream",
     "text": [
      "1176 Gothenburg, Sweden\n"
     ]
    },
    {
     "name": "stderr",
     "output_type": "stream",
     "text": [
      "\r",
      " 89%|████████▉ | 1168/1310 [23:45<01:33,  1.51it/s]"
     ]
    },
    {
     "name": "stdout",
     "output_type": "stream",
     "text": [
      "1177 Rochester, NY, United States\n"
     ]
    },
    {
     "name": "stderr",
     "output_type": "stream",
     "text": [
      "\r",
      " 89%|████████▉ | 1169/1310 [23:46<01:29,  1.58it/s]"
     ]
    },
    {
     "name": "stdout",
     "output_type": "stream",
     "text": [
      "1178 Hagen, Germany\n"
     ]
    },
    {
     "name": "stderr",
     "output_type": "stream",
     "text": [
      "\r",
      " 89%|████████▉ | 1170/1310 [23:46<01:24,  1.65it/s]"
     ]
    },
    {
     "name": "stdout",
     "output_type": "stream",
     "text": [
      "1179 Alicante, Spain\n"
     ]
    },
    {
     "name": "stderr",
     "output_type": "stream",
     "text": [
      "\r",
      " 89%|████████▉ | 1171/1310 [23:47<01:21,  1.71it/s]"
     ]
    },
    {
     "name": "stdout",
     "output_type": "stream",
     "text": [
      "1180 Ocala, FL, United States\n"
     ]
    },
    {
     "name": "stderr",
     "output_type": "stream",
     "text": [
      "\r",
      " 89%|████████▉ | 1172/1310 [23:47<01:19,  1.73it/s]"
     ]
    },
    {
     "name": "stdout",
     "output_type": "stream",
     "text": [
      "1181 Tel Aviv, Israel\n"
     ]
    },
    {
     "name": "stderr",
     "output_type": "stream",
     "text": [
      "\r",
      " 90%|████████▉ | 1173/1310 [23:48<01:17,  1.77it/s]"
     ]
    },
    {
     "name": "stdout",
     "output_type": "stream",
     "text": [
      "1182 Puerto del Rosario, Fuerteventura, Spain\n"
     ]
    },
    {
     "name": "stderr",
     "output_type": "stream",
     "text": [
      "\r",
      " 90%|████████▉ | 1174/1310 [23:48<01:15,  1.79it/s]"
     ]
    },
    {
     "name": "stdout",
     "output_type": "stream",
     "text": [
      "1183 Batumi, Georgia\n"
     ]
    },
    {
     "name": "stderr",
     "output_type": "stream",
     "text": [
      "\r",
      " 90%|████████▉ | 1175/1310 [23:49<01:14,  1.80it/s]"
     ]
    },
    {
     "name": "stdout",
     "output_type": "stream",
     "text": [
      "1184 Windhoek, Namibia\n"
     ]
    },
    {
     "name": "stderr",
     "output_type": "stream",
     "text": [
      "\r",
      " 90%|████████▉ | 1176/1310 [23:49<01:13,  1.81it/s]"
     ]
    },
    {
     "name": "stdout",
     "output_type": "stream",
     "text": [
      "1185 Palm Bay, FL, United States\n"
     ]
    },
    {
     "name": "stderr",
     "output_type": "stream",
     "text": [
      "\r",
      " 90%|████████▉ | 1177/1310 [23:50<01:14,  1.78it/s]"
     ]
    },
    {
     "name": "stdout",
     "output_type": "stream",
     "text": [
      "1186 Sandpoint, ID, United States\n"
     ]
    },
    {
     "name": "stderr",
     "output_type": "stream",
     "text": [
      "\r",
      " 90%|████████▉ | 1178/1310 [23:51<01:20,  1.65it/s]"
     ]
    },
    {
     "name": "stdout",
     "output_type": "stream",
     "text": [
      "1187 Yakima, WA, United States\n"
     ]
    },
    {
     "name": "stderr",
     "output_type": "stream",
     "text": [
      "\r",
      " 90%|█████████ | 1179/1310 [23:51<01:17,  1.70it/s]"
     ]
    },
    {
     "name": "stdout",
     "output_type": "stream",
     "text": [
      "1188 Bogota, Colombia\n"
     ]
    },
    {
     "name": "stderr",
     "output_type": "stream",
     "text": [
      "\r",
      " 90%|█████████ | 1180/1310 [23:52<01:18,  1.66it/s]"
     ]
    },
    {
     "name": "stdout",
     "output_type": "stream",
     "text": [
      "1189 New Haven, CT, United States\n"
     ]
    },
    {
     "name": "stderr",
     "output_type": "stream",
     "text": [
      "\r",
      " 90%|█████████ | 1181/1310 [23:53<01:16,  1.69it/s]"
     ]
    },
    {
     "name": "stdout",
     "output_type": "stream",
     "text": [
      "1190 Oakland, CA, United States\n"
     ]
    },
    {
     "name": "stderr",
     "output_type": "stream",
     "text": [
      "\r",
      " 90%|█████████ | 1182/1310 [23:53<01:14,  1.73it/s]"
     ]
    },
    {
     "name": "stdout",
     "output_type": "stream",
     "text": [
      "1191 Grand Island, NE, United States\n"
     ]
    },
    {
     "name": "stderr",
     "output_type": "stream",
     "text": [
      "\r",
      " 90%|█████████ | 1183/1310 [23:54<01:13,  1.72it/s]"
     ]
    },
    {
     "name": "stdout",
     "output_type": "stream",
     "text": [
      "1192 Natal, Brazil\n"
     ]
    },
    {
     "name": "stderr",
     "output_type": "stream",
     "text": [
      "\r",
      " 90%|█████████ | 1184/1310 [23:54<01:11,  1.75it/s]"
     ]
    },
    {
     "name": "stdout",
     "output_type": "stream",
     "text": [
      "1193 Harlingen, TX, United States\n"
     ]
    },
    {
     "name": "stderr",
     "output_type": "stream",
     "text": [
      "\r",
      " 90%|█████████ | 1185/1310 [23:55<01:11,  1.75it/s]"
     ]
    },
    {
     "name": "stdout",
     "output_type": "stream",
     "text": [
      "1194 Aberdeen, United Kingdom\n"
     ]
    },
    {
     "name": "stderr",
     "output_type": "stream",
     "text": [
      "\r",
      " 91%|█████████ | 1186/1310 [23:55<01:09,  1.78it/s]"
     ]
    },
    {
     "name": "stdout",
     "output_type": "stream",
     "text": [
      "1195 Curitiba, Brazil\n"
     ]
    },
    {
     "name": "stderr",
     "output_type": "stream",
     "text": [
      "\r",
      " 91%|█████████ | 1187/1310 [23:56<01:08,  1.78it/s]"
     ]
    },
    {
     "name": "stdout",
     "output_type": "stream",
     "text": [
      "1196 Kolkata, India\n"
     ]
    },
    {
     "name": "stderr",
     "output_type": "stream",
     "text": [
      "\r",
      " 91%|█████████ | 1188/1310 [23:56<01:08,  1.79it/s]"
     ]
    },
    {
     "name": "stdout",
     "output_type": "stream",
     "text": [
      "1197 Campinas, Brazil\n"
     ]
    },
    {
     "name": "stderr",
     "output_type": "stream",
     "text": [
      "\r",
      " 91%|█████████ | 1189/1310 [23:57<01:09,  1.75it/s]"
     ]
    },
    {
     "name": "stdout",
     "output_type": "stream",
     "text": [
      "1198 Logan, UT, United States\n"
     ]
    },
    {
     "name": "stderr",
     "output_type": "stream",
     "text": [
      "\r",
      " 91%|█████████ | 1190/1310 [23:58<01:08,  1.76it/s]"
     ]
    },
    {
     "name": "stdout",
     "output_type": "stream",
     "text": [
      "1199 Andorra la Vella, Andorra\n"
     ]
    },
    {
     "name": "stderr",
     "output_type": "stream",
     "text": [
      "\r",
      " 91%|█████████ | 1191/1310 [23:58<01:07,  1.76it/s]"
     ]
    },
    {
     "name": "stdout",
     "output_type": "stream",
     "text": [
      "1200 Wichita, KS, United States\n"
     ]
    },
    {
     "name": "stderr",
     "output_type": "stream",
     "text": [
      "\r",
      " 91%|█████████ | 1192/1310 [23:59<01:09,  1.70it/s]"
     ]
    },
    {
     "name": "stdout",
     "output_type": "stream",
     "text": [
      "1201 Bandar Seri Begawan, Brunei\n"
     ]
    },
    {
     "name": "stderr",
     "output_type": "stream",
     "text": [
      "\r",
      " 91%|█████████ | 1193/1310 [23:59<01:07,  1.73it/s]"
     ]
    },
    {
     "name": "stdout",
     "output_type": "stream",
     "text": [
      "1202 North Little Rock, AR, United States\n"
     ]
    },
    {
     "name": "stderr",
     "output_type": "stream",
     "text": [
      "\r",
      " 91%|█████████ | 1194/1310 [24:00<01:06,  1.74it/s]"
     ]
    },
    {
     "name": "stdout",
     "output_type": "stream",
     "text": [
      "1203 Yuma, AZ, United States\n"
     ]
    },
    {
     "name": "stderr",
     "output_type": "stream",
     "text": [
      "\r",
      " 91%|█████████ | 1195/1310 [24:01<01:28,  1.30it/s]"
     ]
    },
    {
     "name": "stdout",
     "output_type": "stream",
     "text": [
      "1204 Patna, India\n"
     ]
    },
    {
     "name": "stderr",
     "output_type": "stream",
     "text": [
      "\r",
      " 91%|█████████▏| 1196/1310 [24:02<01:22,  1.38it/s]"
     ]
    },
    {
     "name": "stdout",
     "output_type": "stream",
     "text": [
      "1205 Tirupur, India\n"
     ]
    },
    {
     "name": "stderr",
     "output_type": "stream",
     "text": [
      "\r",
      " 91%|█████████▏| 1197/1310 [24:02<01:15,  1.49it/s]"
     ]
    },
    {
     "name": "stdout",
     "output_type": "stream",
     "text": [
      "1206 College Station, TX, United States\n"
     ]
    },
    {
     "name": "stderr",
     "output_type": "stream",
     "text": [
      "\r",
      " 91%|█████████▏| 1198/1310 [24:03<01:10,  1.58it/s]"
     ]
    },
    {
     "name": "stdout",
     "output_type": "stream",
     "text": [
      "1207 Surat, India\n"
     ]
    },
    {
     "name": "stderr",
     "output_type": "stream",
     "text": [
      "\r",
      " 92%|█████████▏| 1199/1310 [24:03<01:07,  1.65it/s]"
     ]
    },
    {
     "name": "stdout",
     "output_type": "stream",
     "text": [
      "1208 Manchester, NH, United States\n"
     ]
    },
    {
     "name": "stderr",
     "output_type": "stream",
     "text": [
      "\r",
      " 92%|█████████▏| 1200/1310 [24:04<01:07,  1.64it/s]"
     ]
    },
    {
     "name": "stdout",
     "output_type": "stream",
     "text": [
      "1209 Salta, Argentina\n"
     ]
    },
    {
     "name": "stderr",
     "output_type": "stream",
     "text": [
      "\r",
      " 92%|█████████▏| 1201/1310 [24:05<01:29,  1.22it/s]"
     ]
    },
    {
     "name": "stdout",
     "output_type": "stream",
     "text": [
      "1210 Kharkiv, Ukraine\n"
     ]
    },
    {
     "name": "stderr",
     "output_type": "stream",
     "text": [
      "\r",
      " 92%|█████████▏| 1202/1310 [24:06<01:20,  1.35it/s]"
     ]
    },
    {
     "name": "stdout",
     "output_type": "stream",
     "text": [
      "1211 Kollam, India\n"
     ]
    },
    {
     "name": "stderr",
     "output_type": "stream",
     "text": [
      "\r",
      " 92%|█████████▏| 1203/1310 [24:07<01:17,  1.38it/s]"
     ]
    },
    {
     "name": "stdout",
     "output_type": "stream",
     "text": [
      "1212 Fort Collins, CO, United States\n"
     ]
    },
    {
     "name": "stderr",
     "output_type": "stream",
     "text": [
      "\r",
      " 92%|█████████▏| 1204/1310 [24:07<01:12,  1.47it/s]"
     ]
    },
    {
     "name": "stdout",
     "output_type": "stream",
     "text": [
      "1213 Lynchburg, VA, United States\n"
     ]
    },
    {
     "name": "stderr",
     "output_type": "stream",
     "text": [
      "\r",
      " 92%|█████████▏| 1205/1310 [24:08<01:07,  1.56it/s]"
     ]
    },
    {
     "name": "stdout",
     "output_type": "stream",
     "text": [
      "1214 Yaounde, Cameroon\n"
     ]
    },
    {
     "name": "stderr",
     "output_type": "stream",
     "text": [
      "\r",
      " 92%|█████████▏| 1206/1310 [24:08<01:04,  1.62it/s]"
     ]
    },
    {
     "name": "stdout",
     "output_type": "stream",
     "text": [
      "1215 Weston, FL, United States\n"
     ]
    },
    {
     "name": "stderr",
     "output_type": "stream",
     "text": [
      "\r",
      " 92%|█████████▏| 1207/1310 [24:09<01:01,  1.67it/s]"
     ]
    },
    {
     "name": "stdout",
     "output_type": "stream",
     "text": [
      "1216 Bedford, OH, United States\n"
     ]
    },
    {
     "name": "stderr",
     "output_type": "stream",
     "text": [
      "\r",
      " 92%|█████████▏| 1208/1310 [24:09<00:59,  1.71it/s]"
     ]
    },
    {
     "name": "stdout",
     "output_type": "stream",
     "text": [
      "1217 Pasto, Colombia\n"
     ]
    },
    {
     "name": "stderr",
     "output_type": "stream",
     "text": [
      "\r",
      " 92%|█████████▏| 1209/1310 [24:10<00:58,  1.73it/s]"
     ]
    },
    {
     "name": "stdout",
     "output_type": "stream",
     "text": [
      "1218 Beacon, NY, United States\n"
     ]
    },
    {
     "name": "stderr",
     "output_type": "stream",
     "text": [
      "\r",
      " 92%|█████████▏| 1210/1310 [24:11<00:58,  1.71it/s]"
     ]
    },
    {
     "name": "stdout",
     "output_type": "stream",
     "text": [
      "1219 Bocas del Toro, Panama\n"
     ]
    },
    {
     "name": "stderr",
     "output_type": "stream",
     "text": [
      "\r",
      " 92%|█████████▏| 1211/1310 [24:11<00:56,  1.74it/s]"
     ]
    },
    {
     "name": "stdout",
     "output_type": "stream",
     "text": [
      "1220 Longview, TX, United States\n"
     ]
    },
    {
     "name": "stderr",
     "output_type": "stream",
     "text": [
      "\r",
      " 93%|█████████▎| 1212/1310 [24:12<00:55,  1.77it/s]"
     ]
    },
    {
     "name": "stdout",
     "output_type": "stream",
     "text": [
      "1221 Norfolk, VA, United States\n"
     ]
    },
    {
     "name": "stderr",
     "output_type": "stream",
     "text": [
      "\r",
      " 93%|█████████▎| 1213/1310 [24:12<00:54,  1.78it/s]"
     ]
    },
    {
     "name": "stdout",
     "output_type": "stream",
     "text": [
      "1222 Barrie, Canada\n"
     ]
    },
    {
     "name": "stderr",
     "output_type": "stream",
     "text": [
      "\r",
      " 93%|█████████▎| 1214/1310 [24:13<00:53,  1.81it/s]"
     ]
    },
    {
     "name": "stdout",
     "output_type": "stream",
     "text": [
      "1223 Bloomington, IN, United States\n"
     ]
    },
    {
     "name": "stderr",
     "output_type": "stream",
     "text": [
      "\r",
      " 93%|█████████▎| 1215/1310 [24:13<00:51,  1.83it/s]"
     ]
    },
    {
     "name": "stdout",
     "output_type": "stream",
     "text": [
      "1224 Toulouse, France\n"
     ]
    },
    {
     "name": "stderr",
     "output_type": "stream",
     "text": [
      "\r",
      " 93%|█████████▎| 1216/1310 [24:14<00:50,  1.85it/s]"
     ]
    },
    {
     "name": "stdout",
     "output_type": "stream",
     "text": [
      "1225 Cirebon, Indonesia\n"
     ]
    },
    {
     "name": "stderr",
     "output_type": "stream",
     "text": [
      "\r",
      " 93%|█████████▎| 1217/1310 [24:14<00:50,  1.83it/s]"
     ]
    },
    {
     "name": "stdout",
     "output_type": "stream",
     "text": [
      "1226 Rocky Mount, NC, United States\n"
     ]
    },
    {
     "name": "stderr",
     "output_type": "stream",
     "text": [
      "\r",
      " 93%|█████████▎| 1218/1310 [24:15<00:51,  1.80it/s]"
     ]
    },
    {
     "name": "stdout",
     "output_type": "stream",
     "text": [
      "1227 San Sebastian, Spain\n"
     ]
    },
    {
     "name": "stderr",
     "output_type": "stream",
     "text": [
      "\r",
      " 93%|█████████▎| 1219/1310 [24:15<00:50,  1.81it/s]"
     ]
    },
    {
     "name": "stdout",
     "output_type": "stream",
     "text": [
      "1228 Helena, MT, United States\n"
     ]
    },
    {
     "name": "stderr",
     "output_type": "stream",
     "text": [
      "\r",
      " 93%|█████████▎| 1220/1310 [24:16<00:49,  1.82it/s]"
     ]
    },
    {
     "name": "stdout",
     "output_type": "stream",
     "text": [
      "1229 Huddersfield, United Kingdom\n"
     ]
    },
    {
     "name": "stderr",
     "output_type": "stream",
     "text": [
      "\r",
      " 93%|█████████▎| 1221/1310 [24:17<00:48,  1.82it/s]"
     ]
    },
    {
     "name": "stdout",
     "output_type": "stream",
     "text": [
      "1230 Hof, Germany\n"
     ]
    },
    {
     "name": "stderr",
     "output_type": "stream",
     "text": [
      "\r",
      " 93%|█████████▎| 1222/1310 [24:17<00:48,  1.83it/s]"
     ]
    },
    {
     "name": "stdout",
     "output_type": "stream",
     "text": [
      "1231 Temple, TX, United States\n"
     ]
    },
    {
     "name": "stderr",
     "output_type": "stream",
     "text": [
      "\r",
      " 93%|█████████▎| 1223/1310 [24:18<00:47,  1.84it/s]"
     ]
    },
    {
     "name": "stdout",
     "output_type": "stream",
     "text": [
      "1232 Albuquerque, NM, United States\n"
     ]
    },
    {
     "name": "stderr",
     "output_type": "stream",
     "text": [
      "\r",
      " 93%|█████████▎| 1224/1310 [24:18<00:46,  1.85it/s]"
     ]
    },
    {
     "name": "stdout",
     "output_type": "stream",
     "text": [
      "1233 Cape Coral, FL, United States\n"
     ]
    },
    {
     "name": "stderr",
     "output_type": "stream",
     "text": [
      "\r",
      " 94%|█████████▎| 1225/1310 [24:19<00:45,  1.85it/s]"
     ]
    },
    {
     "name": "stdout",
     "output_type": "stream",
     "text": [
      "1234 Ramallah, Palestine\n"
     ]
    },
    {
     "name": "stderr",
     "output_type": "stream",
     "text": [
      "\r",
      " 94%|█████████▎| 1226/1310 [24:19<00:45,  1.85it/s]"
     ]
    },
    {
     "name": "stdout",
     "output_type": "stream",
     "text": [
      "1235 Southampton, United Kingdom\n"
     ]
    },
    {
     "name": "stderr",
     "output_type": "stream",
     "text": [
      "\r",
      " 94%|█████████▎| 1227/1310 [24:20<00:47,  1.76it/s]"
     ]
    },
    {
     "name": "stdout",
     "output_type": "stream",
     "text": [
      "1236 Bristol, United Kingdom\n"
     ]
    },
    {
     "name": "stderr",
     "output_type": "stream",
     "text": [
      "\r",
      " 94%|█████████▎| 1228/1310 [24:22<01:13,  1.12it/s]"
     ]
    },
    {
     "name": "stdout",
     "output_type": "stream",
     "text": [
      "1237 Cartagena, Colombia\n"
     ]
    },
    {
     "name": "stderr",
     "output_type": "stream",
     "text": [
      "\r",
      " 94%|█████████▍| 1229/1310 [24:22<01:03,  1.27it/s]"
     ]
    },
    {
     "name": "stdout",
     "output_type": "stream",
     "text": [
      "1238 Kaunas, Lithuania\n"
     ]
    },
    {
     "name": "stderr",
     "output_type": "stream",
     "text": [
      "\r",
      " 94%|█████████▍| 1230/1310 [24:23<00:56,  1.40it/s]"
     ]
    },
    {
     "name": "stdout",
     "output_type": "stream",
     "text": [
      "1239 Rockford, IL, United States\n"
     ]
    },
    {
     "name": "stderr",
     "output_type": "stream",
     "text": [
      "\r",
      " 94%|█████████▍| 1231/1310 [24:23<00:52,  1.50it/s]"
     ]
    },
    {
     "name": "stdout",
     "output_type": "stream",
     "text": [
      "1240 Rishikesh, India\n"
     ]
    },
    {
     "name": "stderr",
     "output_type": "stream",
     "text": [
      "\r",
      " 94%|█████████▍| 1232/1310 [24:24<00:49,  1.58it/s]"
     ]
    },
    {
     "name": "stdout",
     "output_type": "stream",
     "text": [
      "1241 Grand Junction, CO, United States\n"
     ]
    },
    {
     "name": "stderr",
     "output_type": "stream",
     "text": [
      "\r",
      " 94%|█████████▍| 1233/1310 [24:24<00:46,  1.64it/s]"
     ]
    },
    {
     "name": "stdout",
     "output_type": "stream",
     "text": [
      "1242 Ko Chang, Thailand\n"
     ]
    },
    {
     "name": "stderr",
     "output_type": "stream",
     "text": [
      "\r",
      " 94%|█████████▍| 1234/1310 [24:25<00:45,  1.69it/s]"
     ]
    },
    {
     "name": "stdout",
     "output_type": "stream",
     "text": [
      "1243 Guiyang, China\n"
     ]
    },
    {
     "name": "stderr",
     "output_type": "stream",
     "text": [
      "\r",
      " 94%|█████████▍| 1235/1310 [24:25<00:43,  1.72it/s]"
     ]
    },
    {
     "name": "stdout",
     "output_type": "stream",
     "text": [
      "1244 Modesto, CA, United States\n"
     ]
    },
    {
     "name": "stderr",
     "output_type": "stream",
     "text": [
      "\r",
      " 94%|█████████▍| 1236/1310 [24:26<00:42,  1.76it/s]"
     ]
    },
    {
     "name": "stdout",
     "output_type": "stream",
     "text": [
      "1245 Cork, Ireland\n"
     ]
    },
    {
     "name": "stderr",
     "output_type": "stream",
     "text": [
      "\r",
      " 94%|█████████▍| 1237/1310 [24:26<00:41,  1.75it/s]"
     ]
    },
    {
     "name": "stdout",
     "output_type": "stream",
     "text": [
      "1246 Ivano-Frankivsk, Ukraine\n"
     ]
    },
    {
     "name": "stderr",
     "output_type": "stream",
     "text": [
      "\r",
      " 95%|█████████▍| 1238/1310 [24:27<00:40,  1.78it/s]"
     ]
    },
    {
     "name": "stdout",
     "output_type": "stream",
     "text": [
      "1247 Cordoba, Spain\n"
     ]
    },
    {
     "name": "stderr",
     "output_type": "stream",
     "text": [
      "\r",
      " 95%|█████████▍| 1239/1310 [24:28<00:39,  1.80it/s]"
     ]
    },
    {
     "name": "stdout",
     "output_type": "stream",
     "text": [
      "1248 Cairo, Egypt\n"
     ]
    },
    {
     "name": "stderr",
     "output_type": "stream",
     "text": [
      "\r",
      " 95%|█████████▍| 1240/1310 [24:28<00:40,  1.73it/s]"
     ]
    },
    {
     "name": "stdout",
     "output_type": "stream",
     "text": [
      "1249 Mancora, Peru\n"
     ]
    },
    {
     "name": "stderr",
     "output_type": "stream",
     "text": [
      "\r",
      " 95%|█████████▍| 1241/1310 [24:29<00:39,  1.76it/s]"
     ]
    },
    {
     "name": "stdout",
     "output_type": "stream",
     "text": [
      "1250 Fes, Morocco\n"
     ]
    },
    {
     "name": "stderr",
     "output_type": "stream",
     "text": [
      "\r",
      " 95%|█████████▍| 1242/1310 [24:29<00:38,  1.78it/s]"
     ]
    },
    {
     "name": "stdout",
     "output_type": "stream",
     "text": [
      "1251 Rotterdam, Netherlands\n"
     ]
    },
    {
     "name": "stderr",
     "output_type": "stream",
     "text": [
      "\r",
      " 95%|█████████▍| 1243/1310 [24:30<00:38,  1.72it/s]"
     ]
    },
    {
     "name": "stdout",
     "output_type": "stream",
     "text": [
      "1252 Dayton, OH, United States\n"
     ]
    },
    {
     "name": "stderr",
     "output_type": "stream",
     "text": [
      "\r",
      " 95%|█████████▍| 1244/1310 [24:30<00:37,  1.75it/s]"
     ]
    },
    {
     "name": "stdout",
     "output_type": "stream",
     "text": [
      "1253 Salvador, Brazil\n"
     ]
    },
    {
     "name": "stderr",
     "output_type": "stream",
     "text": [
      "\r",
      " 95%|█████████▌| 1245/1310 [24:31<00:36,  1.78it/s]"
     ]
    },
    {
     "name": "stdout",
     "output_type": "stream",
     "text": [
      "1254 Avellino, Italy\n"
     ]
    },
    {
     "name": "stderr",
     "output_type": "stream",
     "text": [
      "\r",
      " 95%|█████████▌| 1246/1310 [24:32<00:35,  1.79it/s]"
     ]
    },
    {
     "name": "stdout",
     "output_type": "stream",
     "text": [
      "1255 Portland, ME, United States\n"
     ]
    },
    {
     "name": "stderr",
     "output_type": "stream",
     "text": [
      "\r",
      " 95%|█████████▌| 1247/1310 [24:32<00:34,  1.80it/s]"
     ]
    },
    {
     "name": "stdout",
     "output_type": "stream",
     "text": [
      "1256 Flagstaff, AZ, United States\n"
     ]
    },
    {
     "name": "stderr",
     "output_type": "stream",
     "text": [
      "\r",
      " 95%|█████████▌| 1248/1310 [24:34<01:01,  1.00it/s]"
     ]
    },
    {
     "name": "stdout",
     "output_type": "stream",
     "text": [
      "1257 Suzhou, China\n"
     ]
    },
    {
     "name": "stderr",
     "output_type": "stream",
     "text": [
      "\r",
      " 95%|█████████▌| 1249/1310 [24:35<00:53,  1.15it/s]"
     ]
    },
    {
     "name": "stdout",
     "output_type": "stream",
     "text": [
      "1258 Tunis, Tunisia\n"
     ]
    },
    {
     "name": "stderr",
     "output_type": "stream",
     "text": [
      "\r",
      " 95%|█████████▌| 1250/1310 [24:35<00:46,  1.29it/s]"
     ]
    },
    {
     "name": "stdout",
     "output_type": "stream",
     "text": [
      "1259 Viña del Mar, Chile\n"
     ]
    },
    {
     "name": "stderr",
     "output_type": "stream",
     "text": [
      "\r",
      " 95%|█████████▌| 1251/1310 [24:36<00:43,  1.37it/s]"
     ]
    },
    {
     "name": "stdout",
     "output_type": "stream",
     "text": [
      "1260 Quanzhou, China\n"
     ]
    },
    {
     "name": "stderr",
     "output_type": "stream",
     "text": [
      "\r",
      " 96%|█████████▌| 1252/1310 [24:36<00:39,  1.47it/s]"
     ]
    },
    {
     "name": "stdout",
     "output_type": "stream",
     "text": [
      "1261 Enterprise, NV, United States\n"
     ]
    },
    {
     "name": "stderr",
     "output_type": "stream",
     "text": [
      "\r",
      " 96%|█████████▌| 1253/1310 [24:37<00:36,  1.57it/s]"
     ]
    },
    {
     "name": "stdout",
     "output_type": "stream",
     "text": [
      "1262 Chachapoyas, Peru\n"
     ]
    },
    {
     "name": "stderr",
     "output_type": "stream",
     "text": [
      "\r",
      " 96%|█████████▌| 1254/1310 [24:38<00:34,  1.64it/s]"
     ]
    },
    {
     "name": "stdout",
     "output_type": "stream",
     "text": [
      "1263 Chengdu, China\n"
     ]
    },
    {
     "name": "stderr",
     "output_type": "stream",
     "text": [
      "\r",
      " 96%|█████████▌| 1255/1310 [24:39<00:49,  1.12it/s]"
     ]
    },
    {
     "name": "stdout",
     "output_type": "stream",
     "text": [
      "1264 Providence, RI, United States\n"
     ]
    },
    {
     "name": "stderr",
     "output_type": "stream",
     "text": [
      "\r",
      " 96%|█████████▌| 1256/1310 [24:40<00:42,  1.27it/s]"
     ]
    },
    {
     "name": "stdout",
     "output_type": "stream",
     "text": [
      "1265 Zunyi, China\n"
     ]
    },
    {
     "name": "stderr",
     "output_type": "stream",
     "text": [
      "\r",
      " 96%|█████████▌| 1257/1310 [24:41<00:48,  1.09it/s]"
     ]
    },
    {
     "name": "stdout",
     "output_type": "stream",
     "text": [
      "1266 Greeley, CO, United States\n"
     ]
    },
    {
     "name": "stderr",
     "output_type": "stream",
     "text": [
      "\r",
      " 96%|█████████▌| 1258/1310 [24:42<00:52,  1.01s/it]"
     ]
    },
    {
     "name": "stdout",
     "output_type": "stream",
     "text": [
      "1267 Nashua, NH, United States\n"
     ]
    },
    {
     "name": "stderr",
     "output_type": "stream",
     "text": [
      "\r",
      " 96%|█████████▌| 1259/1310 [24:43<00:44,  1.14it/s]"
     ]
    },
    {
     "name": "stdout",
     "output_type": "stream",
     "text": [
      "1268 Lake Havasu City, AZ, United States\n"
     ]
    },
    {
     "name": "stderr",
     "output_type": "stream",
     "text": [
      "\r",
      " 96%|█████████▌| 1260/1310 [24:43<00:38,  1.29it/s]"
     ]
    },
    {
     "name": "stdout",
     "output_type": "stream",
     "text": [
      "1269 Ghent, Belgium\n"
     ]
    },
    {
     "name": "stderr",
     "output_type": "stream",
     "text": [
      "\r",
      " 96%|█████████▋| 1261/1310 [24:44<00:34,  1.41it/s]"
     ]
    },
    {
     "name": "stdout",
     "output_type": "stream",
     "text": [
      "1270 Daegu, South Korea\n"
     ]
    },
    {
     "name": "stderr",
     "output_type": "stream",
     "text": [
      "\r",
      " 96%|█████████▋| 1262/1310 [24:44<00:31,  1.52it/s]"
     ]
    },
    {
     "name": "stdout",
     "output_type": "stream",
     "text": [
      "1271 Fort McMurray, Canada\n"
     ]
    },
    {
     "name": "stderr",
     "output_type": "stream",
     "text": [
      "\r",
      " 96%|█████████▋| 1263/1310 [24:45<00:30,  1.52it/s]"
     ]
    },
    {
     "name": "stdout",
     "output_type": "stream",
     "text": [
      "1272 Kotor, Montenegro\n"
     ]
    },
    {
     "name": "stderr",
     "output_type": "stream",
     "text": [
      "\r",
      " 96%|█████████▋| 1264/1310 [24:45<00:28,  1.62it/s]"
     ]
    },
    {
     "name": "stdout",
     "output_type": "stream",
     "text": [
      "1273 Lawton, OK, United States\n"
     ]
    },
    {
     "name": "stderr",
     "output_type": "stream",
     "text": [
      "\r",
      " 97%|█████████▋| 1265/1310 [24:46<00:26,  1.68it/s]"
     ]
    },
    {
     "name": "stdout",
     "output_type": "stream",
     "text": [
      "1274 Gwangju, South Korea\n"
     ]
    },
    {
     "name": "stderr",
     "output_type": "stream",
     "text": [
      "\r",
      " 97%|█████████▋| 1266/1310 [24:47<00:33,  1.32it/s]"
     ]
    },
    {
     "name": "stdout",
     "output_type": "stream",
     "text": [
      "1275 Mbuji-Mayi, DR Congo\n"
     ]
    },
    {
     "name": "stderr",
     "output_type": "stream",
     "text": [
      "\r",
      " 97%|█████████▋| 1267/1310 [24:48<00:31,  1.36it/s]"
     ]
    },
    {
     "name": "stdout",
     "output_type": "stream",
     "text": [
      "1276 Baltimore, MD, United States\n"
     ]
    },
    {
     "name": "stderr",
     "output_type": "stream",
     "text": [
      "\r",
      " 97%|█████████▋| 1268/1310 [24:48<00:28,  1.48it/s]"
     ]
    },
    {
     "name": "stdout",
     "output_type": "stream",
     "text": [
      "1277 Huambo, Angola\n"
     ]
    },
    {
     "name": "stderr",
     "output_type": "stream",
     "text": [
      "\r",
      " 97%|█████████▋| 1269/1310 [24:49<00:27,  1.47it/s]"
     ]
    },
    {
     "name": "stdout",
     "output_type": "stream",
     "text": [
      "1278 York, United Kingdom\n"
     ]
    },
    {
     "name": "stderr",
     "output_type": "stream",
     "text": [
      "\r",
      " 97%|█████████▋| 1270/1310 [24:50<00:33,  1.19it/s]"
     ]
    },
    {
     "name": "stdout",
     "output_type": "stream",
     "text": [
      "1279 Kinshasa, DR Congo\n"
     ]
    },
    {
     "name": "stderr",
     "output_type": "stream",
     "text": [
      "\r",
      " 97%|█████████▋| 1271/1310 [24:51<00:29,  1.33it/s]"
     ]
    },
    {
     "name": "stdout",
     "output_type": "stream",
     "text": [
      "1280 Vista, CA, United States\n"
     ]
    },
    {
     "name": "stderr",
     "output_type": "stream",
     "text": [
      "\r",
      " 97%|█████████▋| 1272/1310 [24:51<00:26,  1.45it/s]"
     ]
    },
    {
     "name": "stdout",
     "output_type": "stream",
     "text": [
      "1281 Iquique, Chile\n"
     ]
    },
    {
     "name": "stderr",
     "output_type": "stream",
     "text": [
      "\r",
      " 97%|█████████▋| 1273/1310 [24:52<00:23,  1.54it/s]"
     ]
    },
    {
     "name": "stdout",
     "output_type": "stream",
     "text": [
      "1282 Elkhart, IN, United States\n"
     ]
    },
    {
     "name": "stderr",
     "output_type": "stream",
     "text": [
      "\r",
      " 97%|█████████▋| 1274/1310 [24:52<00:22,  1.59it/s]"
     ]
    },
    {
     "name": "stdout",
     "output_type": "stream",
     "text": [
      "1283 Macau, China\n"
     ]
    },
    {
     "name": "stderr",
     "output_type": "stream",
     "text": [
      "\r",
      " 97%|█████████▋| 1275/1310 [24:53<00:22,  1.56it/s]"
     ]
    },
    {
     "name": "stdout",
     "output_type": "stream",
     "text": [
      "1284 Panajachel, Guatemala\n"
     ]
    },
    {
     "name": "stderr",
     "output_type": "stream",
     "text": [
      "\r",
      " 97%|█████████▋| 1276/1310 [24:54<00:20,  1.64it/s]"
     ]
    },
    {
     "name": "stdout",
     "output_type": "stream",
     "text": [
      "1285 Marysville, WA, United States\n"
     ]
    },
    {
     "name": "stderr",
     "output_type": "stream",
     "text": [
      "\r",
      " 97%|█████████▋| 1277/1310 [24:54<00:19,  1.69it/s]"
     ]
    },
    {
     "name": "stdout",
     "output_type": "stream",
     "text": [
      "1286 Bern, Switzerland\n"
     ]
    },
    {
     "name": "stderr",
     "output_type": "stream",
     "text": [
      "\r",
      " 98%|█████████▊| 1278/1310 [24:55<00:19,  1.67it/s]"
     ]
    },
    {
     "name": "stdout",
     "output_type": "stream",
     "text": [
      "1287 Rennes, France\n"
     ]
    },
    {
     "name": "stderr",
     "output_type": "stream",
     "text": [
      "\r",
      " 98%|█████████▊| 1279/1310 [24:55<00:18,  1.68it/s]"
     ]
    },
    {
     "name": "stdout",
     "output_type": "stream",
     "text": [
      "1288 Chongqing, China\n"
     ]
    },
    {
     "name": "stderr",
     "output_type": "stream",
     "text": [
      "\r",
      " 98%|█████████▊| 1280/1310 [24:56<00:17,  1.73it/s]"
     ]
    },
    {
     "name": "stdout",
     "output_type": "stream",
     "text": [
      "1289 Dili, East Timor\n"
     ]
    },
    {
     "name": "stderr",
     "output_type": "stream",
     "text": [
      "\r",
      " 98%|█████████▊| 1281/1310 [24:57<00:16,  1.71it/s]"
     ]
    },
    {
     "name": "stdout",
     "output_type": "stream",
     "text": [
      "1290 Uberlandia, Brazil\n"
     ]
    },
    {
     "name": "stderr",
     "output_type": "stream",
     "text": [
      "\r",
      " 98%|█████████▊| 1282/1310 [24:57<00:16,  1.75it/s]"
     ]
    },
    {
     "name": "stdout",
     "output_type": "stream",
     "text": [
      "1291 Santa Teresa, Costa Rica\n"
     ]
    },
    {
     "name": "stderr",
     "output_type": "stream",
     "text": [
      "\r",
      " 98%|█████████▊| 1283/1310 [24:58<00:15,  1.77it/s]"
     ]
    },
    {
     "name": "stdout",
     "output_type": "stream",
     "text": [
      "1292 Guatemala City, Guatemala\n"
     ]
    },
    {
     "name": "stderr",
     "output_type": "stream",
     "text": [
      "\r",
      " 98%|█████████▊| 1284/1310 [24:58<00:14,  1.80it/s]"
     ]
    },
    {
     "name": "stdout",
     "output_type": "stream",
     "text": [
      "1293 Shrewsbury, United Kingdom\n"
     ]
    },
    {
     "name": "stderr",
     "output_type": "stream",
     "text": [
      "\r",
      " 98%|█████████▊| 1285/1310 [24:59<00:13,  1.80it/s]"
     ]
    },
    {
     "name": "stdout",
     "output_type": "stream",
     "text": [
      "1294 Mar del Plata, Argentina\n"
     ]
    },
    {
     "name": "stderr",
     "output_type": "stream",
     "text": [
      "\r",
      " 98%|█████████▊| 1286/1310 [25:00<00:20,  1.16it/s]"
     ]
    },
    {
     "name": "stdout",
     "output_type": "stream",
     "text": [
      "1295 Cavtat, Croatia\n"
     ]
    },
    {
     "name": "stderr",
     "output_type": "stream",
     "text": [
      "\r",
      " 98%|█████████▊| 1287/1310 [25:01<00:17,  1.30it/s]"
     ]
    },
    {
     "name": "stdout",
     "output_type": "stream",
     "text": [
      "1296 Bremen, Germany\n"
     ]
    },
    {
     "name": "stderr",
     "output_type": "stream",
     "text": [
      "\r",
      " 98%|█████████▊| 1288/1310 [25:01<00:15,  1.43it/s]"
     ]
    },
    {
     "name": "stdout",
     "output_type": "stream",
     "text": [
      "1297 Cabarete, Dominican Republic\n"
     ]
    },
    {
     "name": "stderr",
     "output_type": "stream",
     "text": [
      "\r",
      " 98%|█████████▊| 1289/1310 [25:02<00:13,  1.53it/s]"
     ]
    },
    {
     "name": "stdout",
     "output_type": "stream",
     "text": [
      "1298 Budva, Montenegro\n"
     ]
    },
    {
     "name": "stderr",
     "output_type": "stream",
     "text": [
      "\r",
      " 98%|█████████▊| 1290/1310 [25:03<00:12,  1.62it/s]"
     ]
    },
    {
     "name": "stdout",
     "output_type": "stream",
     "text": [
      "1299 La Paz, Bolivia\n"
     ]
    },
    {
     "name": "stderr",
     "output_type": "stream",
     "text": [
      "\r",
      " 99%|█████████▊| 1291/1310 [25:03<00:11,  1.67it/s]"
     ]
    },
    {
     "name": "stdout",
     "output_type": "stream",
     "text": [
      "1300 Jiamusi, China\n"
     ]
    },
    {
     "name": "stderr",
     "output_type": "stream",
     "text": [
      "\r",
      " 99%|█████████▊| 1292/1310 [25:04<00:10,  1.71it/s]"
     ]
    },
    {
     "name": "stdout",
     "output_type": "stream",
     "text": [
      "1301 Guangzhou, China\n"
     ]
    },
    {
     "name": "stderr",
     "output_type": "stream",
     "text": [
      "\r",
      " 99%|█████████▊| 1293/1310 [25:04<00:09,  1.76it/s]"
     ]
    },
    {
     "name": "stdout",
     "output_type": "stream",
     "text": [
      "1302 Philadelphia, PA, United States\n"
     ]
    },
    {
     "name": "stderr",
     "output_type": "stream",
     "text": [
      "\r",
      " 99%|█████████▉| 1294/1310 [25:05<00:09,  1.70it/s]"
     ]
    },
    {
     "name": "stdout",
     "output_type": "stream",
     "text": [
      "1303 Fairfax, VA, United States\n"
     ]
    },
    {
     "name": "stderr",
     "output_type": "stream",
     "text": [
      "\r",
      " 99%|█████████▉| 1295/1310 [25:05<00:08,  1.72it/s]"
     ]
    },
    {
     "name": "stdout",
     "output_type": "stream",
     "text": [
      "1304 Jiangmen, China\n"
     ]
    },
    {
     "name": "stderr",
     "output_type": "stream",
     "text": [
      "\r",
      " 99%|█████████▉| 1296/1310 [25:06<00:08,  1.70it/s]"
     ]
    },
    {
     "name": "stdout",
     "output_type": "stream",
     "text": [
      "1305 Leiden, Netherlands\n"
     ]
    },
    {
     "name": "stderr",
     "output_type": "stream",
     "text": [
      "\r",
      " 99%|█████████▉| 1297/1310 [25:06<00:07,  1.73it/s]"
     ]
    },
    {
     "name": "stdout",
     "output_type": "stream",
     "text": [
      "1306 Wilmington, NC, United States\n"
     ]
    },
    {
     "name": "stderr",
     "output_type": "stream",
     "text": [
      "\r",
      " 99%|█████████▉| 1298/1310 [25:07<00:06,  1.77it/s]"
     ]
    },
    {
     "name": "stdout",
     "output_type": "stream",
     "text": [
      "1307 Dubrovnik, Croatia\n"
     ]
    },
    {
     "name": "stderr",
     "output_type": "stream",
     "text": [
      "\r",
      " 99%|█████████▉| 1299/1310 [25:08<00:06,  1.78it/s]"
     ]
    },
    {
     "name": "stdout",
     "output_type": "stream",
     "text": [
      "1308 Klaipeda, Lithuania\n"
     ]
    },
    {
     "name": "stderr",
     "output_type": "stream",
     "text": [
      "\r",
      " 99%|█████████▉| 1300/1310 [25:08<00:05,  1.80it/s]"
     ]
    },
    {
     "name": "stdout",
     "output_type": "stream",
     "text": [
      "1309 Suwon, South Korea\n"
     ]
    },
    {
     "name": "stderr",
     "output_type": "stream",
     "text": [
      "\r",
      " 99%|█████████▉| 1301/1310 [25:09<00:04,  1.82it/s]"
     ]
    },
    {
     "name": "stdout",
     "output_type": "stream",
     "text": [
      "1310 Shantou, China\n"
     ]
    },
    {
     "name": "stderr",
     "output_type": "stream",
     "text": [
      "\r",
      " 99%|█████████▉| 1302/1310 [25:09<00:04,  1.82it/s]"
     ]
    },
    {
     "name": "stdout",
     "output_type": "stream",
     "text": [
      "1311 Yangshuo, China\n"
     ]
    },
    {
     "name": "stderr",
     "output_type": "stream",
     "text": [
      "\r",
      " 99%|█████████▉| 1303/1310 [25:10<00:03,  1.82it/s]"
     ]
    },
    {
     "name": "stdout",
     "output_type": "stream",
     "text": [
      "1312 Flint, MI, United States\n"
     ]
    },
    {
     "name": "stderr",
     "output_type": "stream",
     "text": [
      "\r",
      "100%|█████████▉| 1304/1310 [25:10<00:03,  1.83it/s]"
     ]
    },
    {
     "name": "stdout",
     "output_type": "stream",
     "text": [
      "1313 San Cristóbal de las Casas, Mexico\n"
     ]
    },
    {
     "name": "stderr",
     "output_type": "stream",
     "text": [
      "\r",
      "100%|█████████▉| 1305/1310 [25:11<00:02,  1.83it/s]"
     ]
    },
    {
     "name": "stdout",
     "output_type": "stream",
     "text": [
      "1314 Reading, United Kingdom\n"
     ]
    },
    {
     "name": "stderr",
     "output_type": "stream",
     "text": [
      "\r",
      "100%|█████████▉| 1306/1310 [25:11<00:02,  1.82it/s]"
     ]
    },
    {
     "name": "stdout",
     "output_type": "stream",
     "text": [
      "1315 St. Cloud, MN, United States\n"
     ]
    },
    {
     "name": "stderr",
     "output_type": "stream",
     "text": [
      "\r",
      "100%|█████████▉| 1307/1310 [25:12<00:01,  1.83it/s]"
     ]
    },
    {
     "name": "stdout",
     "output_type": "stream",
     "text": [
      "1316 Volgograd, Russia\n"
     ]
    },
    {
     "name": "stderr",
     "output_type": "stream",
     "text": [
      "\r",
      "100%|█████████▉| 1308/1310 [25:12<00:01,  1.82it/s]"
     ]
    },
    {
     "name": "stdout",
     "output_type": "stream",
     "text": [
      "1317 Columbia, MO, United States\n"
     ]
    },
    {
     "name": "stderr",
     "output_type": "stream",
     "text": [
      "\r",
      "100%|█████████▉| 1309/1310 [25:13<00:00,  1.84it/s]"
     ]
    },
    {
     "name": "stdout",
     "output_type": "stream",
     "text": [
      "1318 Kampala, Uganda\n"
     ]
    },
    {
     "name": "stderr",
     "output_type": "stream",
     "text": [
      "100%|██████████| 1310/1310 [25:14<00:00,  1.16s/it]"
     ]
    },
    {
     "name": "stdout",
     "output_type": "stream",
     "text": [
      "1319 La Serena, Chile\n",
      "CPU times: user 39.6 s, sys: 3.11 s, total: 42.7 s\n",
      "Wall time: 25min 14s\n"
     ]
    },
    {
     "name": "stderr",
     "output_type": "stream",
     "text": [
      "\n"
     ]
    }
   ],
   "source": [
    "%%time\n",
    "#vamos a agregar la latitud, longitud y continente de cada ciudad con el api de OpenCage\n",
    "\n",
    "#generamos un token para el API (guardado en otro archivo oculto)\n",
    "from tokens import OpenCage_token\n",
    "\n",
    "key = OpenCage_token\n",
    "geocoder = OpenCageGeocode(key)\n",
    "\n",
    "for i in tqdm(range(1150,len(cities))):\n",
    "    try:\n",
    "        query = cities.loc[i,'City']+', '+cities.loc[i,'Country']\n",
    "        result = geocoder.geocode(query)\n",
    "        #print(query)\n",
    "        for e in result:\n",
    "            if e['components']['_type']=='city':\n",
    "                #print('es ciudad',e['geometry']['lat'],e['geometry']['lng'])\n",
    "                cities.loc[i,'lat'] = e['geometry']['lat']\n",
    "                cities.loc[i,'lng'] = e['geometry']['lng']\n",
    "                cities.loc[i,'Continente'] = e['components']['continent']\n",
    "                break\n",
    "        #print('-----')\n",
    "        time.sleep(0.3)\n",
    "    except:\n",
    "        print(i,query)\n"
   ]
  },
  {
   "cell_type": "code",
   "execution_count": 300,
   "metadata": {},
   "outputs": [
    {
     "data": {
      "text/html": [
       "<div>\n",
       "<style scoped>\n",
       "    .dataframe tbody tr th:only-of-type {\n",
       "        vertical-align: middle;\n",
       "    }\n",
       "\n",
       "    .dataframe tbody tr th {\n",
       "        vertical-align: top;\n",
       "    }\n",
       "\n",
       "    .dataframe thead th {\n",
       "        text-align: right;\n",
       "    }\n",
       "</style>\n",
       "<table border=\"1\" class=\"dataframe\">\n",
       "  <thead>\n",
       "    <tr style=\"text-align: right;\">\n",
       "      <th></th>\n",
       "      <th>City</th>\n",
       "      <th>Country</th>\n",
       "      <th>Photo</th>\n",
       "      <th>Overall Score</th>\n",
       "      <th>Quality of life score</th>\n",
       "      <th>Family score</th>\n",
       "      <th>Cost/month (USD)</th>\n",
       "      <th>Internet Mbps</th>\n",
       "      <th>Fun</th>\n",
       "      <th>Safety</th>\n",
       "      <th>...</th>\n",
       "      <th>Temperature (°C) Aug</th>\n",
       "      <th>Temperature (°C) Sep</th>\n",
       "      <th>Temperature (°C) Oct</th>\n",
       "      <th>Temperature (°C) Nov</th>\n",
       "      <th>Temperature (°C) Dec</th>\n",
       "      <th>lat</th>\n",
       "      <th>lng</th>\n",
       "      <th>Closest Cities (km)</th>\n",
       "      <th>Continente</th>\n",
       "      <th>City-Country</th>\n",
       "    </tr>\n",
       "  </thead>\n",
       "  <tbody>\n",
       "    <tr>\n",
       "      <th>0</th>\n",
       "      <td>Lisbon</td>\n",
       "      <td>Portugal</td>\n",
       "      <td>https://nomadlist.com/assets/img/places/lisbon...</td>\n",
       "      <td>4.68</td>\n",
       "      <td>4</td>\n",
       "      <td>4</td>\n",
       "      <td>2006.0</td>\n",
       "      <td>27.0</td>\n",
       "      <td>4.0</td>\n",
       "      <td>Great</td>\n",
       "      <td>...</td>\n",
       "      <td>25</td>\n",
       "      <td>24</td>\n",
       "      <td>21</td>\n",
       "      <td>17</td>\n",
       "      <td>16</td>\n",
       "      <td>38.707751</td>\n",
       "      <td>-9.136592</td>\n",
       "      <td>{'Ericeira': 37, 'Coimbra': 177, 'Portimão': 1...</td>\n",
       "      <td>Europe</td>\n",
       "      <td>Lisbon, Portugal</td>\n",
       "    </tr>\n",
       "    <tr>\n",
       "      <th>1</th>\n",
       "      <td>Canggu, Bali</td>\n",
       "      <td>Indonesia</td>\n",
       "      <td>https://nomadlist.com/assets/img/places/canggu...</td>\n",
       "      <td>4.61</td>\n",
       "      <td>4</td>\n",
       "      <td>4</td>\n",
       "      <td>1247.0</td>\n",
       "      <td>19.0</td>\n",
       "      <td>4.0</td>\n",
       "      <td>Great</td>\n",
       "      <td>...</td>\n",
       "      <td>27</td>\n",
       "      <td>27</td>\n",
       "      <td>29</td>\n",
       "      <td>30</td>\n",
       "      <td>31</td>\n",
       "      <td>-8.650618</td>\n",
       "      <td>115.136499</td>\n",
       "      <td>{'Seminyak, Bali': 5, 'Denpasar, Bali': 9, 'Ku...</td>\n",
       "      <td>Asia</td>\n",
       "      <td>Canggu, Bali, Indonesia</td>\n",
       "    </tr>\n",
       "    <tr>\n",
       "      <th>2</th>\n",
       "      <td>Mexico City</td>\n",
       "      <td>Mexico</td>\n",
       "      <td>https://nomadlist.com/assets/img/places/mexico...</td>\n",
       "      <td>4.46</td>\n",
       "      <td>4</td>\n",
       "      <td>3</td>\n",
       "      <td>1278.0</td>\n",
       "      <td>19.0</td>\n",
       "      <td>4.0</td>\n",
       "      <td>Okay</td>\n",
       "      <td>...</td>\n",
       "      <td>22</td>\n",
       "      <td>21</td>\n",
       "      <td>21</td>\n",
       "      <td>21</td>\n",
       "      <td>20</td>\n",
       "      <td>19.432630</td>\n",
       "      <td>-99.133178</td>\n",
       "      <td>{'Toluca': 57, 'Puebla': 107, 'Queretaro': 184...</td>\n",
       "      <td>North America</td>\n",
       "      <td>Mexico City, Mexico</td>\n",
       "    </tr>\n",
       "    <tr>\n",
       "      <th>3</th>\n",
       "      <td>Chiang Mai</td>\n",
       "      <td>Thailand</td>\n",
       "      <td>https://nomadlist.com/assets/img/places/chiang...</td>\n",
       "      <td>4.45</td>\n",
       "      <td>4</td>\n",
       "      <td>3</td>\n",
       "      <td>1056.0</td>\n",
       "      <td>24.0</td>\n",
       "      <td>4.0</td>\n",
       "      <td>Great</td>\n",
       "      <td>...</td>\n",
       "      <td>31</td>\n",
       "      <td>31</td>\n",
       "      <td>31</td>\n",
       "      <td>30</td>\n",
       "      <td>28</td>\n",
       "      <td>18.790876</td>\n",
       "      <td>98.988048</td>\n",
       "      <td>{'Pai': 85, 'Chiang Rai': 152, 'Naypyidaw': 31...</td>\n",
       "      <td>Asia</td>\n",
       "      <td>Chiang Mai, Thailand</td>\n",
       "    </tr>\n",
       "    <tr>\n",
       "      <th>4</th>\n",
       "      <td>Belgrade</td>\n",
       "      <td>Serbia</td>\n",
       "      <td>https://nomadlist.com/assets/img/places/belgra...</td>\n",
       "      <td>4.45</td>\n",
       "      <td>4</td>\n",
       "      <td>4</td>\n",
       "      <td>1423.0</td>\n",
       "      <td>29.0</td>\n",
       "      <td>4.0</td>\n",
       "      <td>Good</td>\n",
       "      <td>...</td>\n",
       "      <td>32</td>\n",
       "      <td>26</td>\n",
       "      <td>23</td>\n",
       "      <td>16</td>\n",
       "      <td>8</td>\n",
       "      <td>44.817813</td>\n",
       "      <td>20.456897</td>\n",
       "      <td>{'Novi Sad': 68, 'Timisoara': 120, 'Osijek': 1...</td>\n",
       "      <td>Europe</td>\n",
       "      <td>Belgrade, Serbia</td>\n",
       "    </tr>\n",
       "  </tbody>\n",
       "</table>\n",
       "<p>5 rows × 49 columns</p>\n",
       "</div>"
      ],
      "text/plain": [
       "           City    Country                                              Photo  \\\n",
       "0        Lisbon   Portugal  https://nomadlist.com/assets/img/places/lisbon...   \n",
       "1  Canggu, Bali  Indonesia  https://nomadlist.com/assets/img/places/canggu...   \n",
       "2   Mexico City     Mexico  https://nomadlist.com/assets/img/places/mexico...   \n",
       "3    Chiang Mai   Thailand  https://nomadlist.com/assets/img/places/chiang...   \n",
       "4      Belgrade     Serbia  https://nomadlist.com/assets/img/places/belgra...   \n",
       "\n",
       "   Overall Score  Quality of life score  Family score  Cost/month (USD)  \\\n",
       "0           4.68                      4             4            2006.0   \n",
       "1           4.61                      4             4            1247.0   \n",
       "2           4.46                      4             3            1278.0   \n",
       "3           4.45                      4             3            1056.0   \n",
       "4           4.45                      4             4            1423.0   \n",
       "\n",
       "   Internet Mbps  Fun Safety  ...  Temperature (°C) Aug  Temperature (°C) Sep  \\\n",
       "0           27.0  4.0  Great  ...                    25                    24   \n",
       "1           19.0  4.0  Great  ...                    27                    27   \n",
       "2           19.0  4.0   Okay  ...                    22                    21   \n",
       "3           24.0  4.0  Great  ...                    31                    31   \n",
       "4           29.0  4.0   Good  ...                    32                    26   \n",
       "\n",
       "   Temperature (°C) Oct  Temperature (°C) Nov  Temperature (°C) Dec  \\\n",
       "0                    21                    17                    16   \n",
       "1                    29                    30                    31   \n",
       "2                    21                    21                    20   \n",
       "3                    31                    30                    28   \n",
       "4                    23                    16                     8   \n",
       "\n",
       "         lat         lng                                Closest Cities (km)  \\\n",
       "0  38.707751   -9.136592  {'Ericeira': 37, 'Coimbra': 177, 'Portimão': 1...   \n",
       "1  -8.650618  115.136499  {'Seminyak, Bali': 5, 'Denpasar, Bali': 9, 'Ku...   \n",
       "2  19.432630  -99.133178  {'Toluca': 57, 'Puebla': 107, 'Queretaro': 184...   \n",
       "3  18.790876   98.988048  {'Pai': 85, 'Chiang Rai': 152, 'Naypyidaw': 31...   \n",
       "4  44.817813   20.456897  {'Novi Sad': 68, 'Timisoara': 120, 'Osijek': 1...   \n",
       "\n",
       "      Continente             City-Country  \n",
       "0         Europe         Lisbon, Portugal  \n",
       "1           Asia  Canggu, Bali, Indonesia  \n",
       "2  North America      Mexico City, Mexico  \n",
       "3           Asia     Chiang Mai, Thailand  \n",
       "4         Europe         Belgrade, Serbia  \n",
       "\n",
       "[5 rows x 49 columns]"
      ]
     },
     "execution_count": 300,
     "metadata": {},
     "output_type": "execute_result"
    }
   ],
   "source": [
    "#muestra de la tabla incluyendo latitud, longitud y continente\n",
    "cities.head()"
   ]
  },
  {
   "cell_type": "code",
   "execution_count": 302,
   "metadata": {},
   "outputs": [
    {
     "data": {
      "text/html": [
       "<div>\n",
       "<style scoped>\n",
       "    .dataframe tbody tr th:only-of-type {\n",
       "        vertical-align: middle;\n",
       "    }\n",
       "\n",
       "    .dataframe tbody tr th {\n",
       "        vertical-align: top;\n",
       "    }\n",
       "\n",
       "    .dataframe thead th {\n",
       "        text-align: right;\n",
       "    }\n",
       "</style>\n",
       "<table border=\"1\" class=\"dataframe\">\n",
       "  <thead>\n",
       "    <tr style=\"text-align: right;\">\n",
       "      <th></th>\n",
       "      <th>City</th>\n",
       "      <th>Country</th>\n",
       "      <th>Photo</th>\n",
       "      <th>Overall Score</th>\n",
       "      <th>Quality of life score</th>\n",
       "      <th>Family score</th>\n",
       "      <th>Cost/month (USD)</th>\n",
       "      <th>Internet Mbps</th>\n",
       "      <th>Fun</th>\n",
       "      <th>Safety</th>\n",
       "      <th>...</th>\n",
       "      <th>Temperature (°C) Aug</th>\n",
       "      <th>Temperature (°C) Sep</th>\n",
       "      <th>Temperature (°C) Oct</th>\n",
       "      <th>Temperature (°C) Nov</th>\n",
       "      <th>Temperature (°C) Dec</th>\n",
       "      <th>lat</th>\n",
       "      <th>lng</th>\n",
       "      <th>Closest Cities (km)</th>\n",
       "      <th>Continente</th>\n",
       "      <th>City-Country</th>\n",
       "    </tr>\n",
       "  </thead>\n",
       "  <tbody>\n",
       "    <tr>\n",
       "      <th>20</th>\n",
       "      <td>George Town, Penang</td>\n",
       "      <td>Malaysia</td>\n",
       "      <td>https://nomadlist.com/assets/img/places/george...</td>\n",
       "      <td>4.15</td>\n",
       "      <td>4</td>\n",
       "      <td>3</td>\n",
       "      <td>1102.0</td>\n",
       "      <td>19.0</td>\n",
       "      <td>3.0</td>\n",
       "      <td>Good</td>\n",
       "      <td>...</td>\n",
       "      <td>31</td>\n",
       "      <td>31</td>\n",
       "      <td>30</td>\n",
       "      <td>30</td>\n",
       "      <td>30</td>\n",
       "      <td>5.414568</td>\n",
       "      <td>100.329803</td>\n",
       "      <td>{'Langkawi': 121, 'Ipoh': 123, 'Ko Lipe': 164,...</td>\n",
       "      <td>NaN</td>\n",
       "      <td>George Town, Penang, Malaysia</td>\n",
       "    </tr>\n",
       "    <tr>\n",
       "      <th>67</th>\n",
       "      <td>Nakhon Ratchasima</td>\n",
       "      <td>Thailand</td>\n",
       "      <td>https://nomadlist.com/assets/img/places/nakhon...</td>\n",
       "      <td>3.86</td>\n",
       "      <td>3</td>\n",
       "      <td>3</td>\n",
       "      <td>1053.0</td>\n",
       "      <td>81.0</td>\n",
       "      <td>3.0</td>\n",
       "      <td>Great</td>\n",
       "      <td>...</td>\n",
       "      <td>30</td>\n",
       "      <td>30</td>\n",
       "      <td>30</td>\n",
       "      <td>29</td>\n",
       "      <td>30</td>\n",
       "      <td>15.224192</td>\n",
       "      <td>101.931375</td>\n",
       "      <td>{'Bangkok': 225, 'Udon Thani': 258, 'Pattaya':...</td>\n",
       "      <td>NaN</td>\n",
       "      <td>Nakhon Ratchasima, Thailand</td>\n",
       "    </tr>\n",
       "    <tr>\n",
       "      <th>69</th>\n",
       "      <td>Las Palmas, Canary Islands</td>\n",
       "      <td>Spain</td>\n",
       "      <td>https://nomadlist.com/assets/img/places/las-pa...</td>\n",
       "      <td>3.77</td>\n",
       "      <td>4</td>\n",
       "      <td>4</td>\n",
       "      <td>2278.0</td>\n",
       "      <td>29.0</td>\n",
       "      <td>4.0</td>\n",
       "      <td>Great</td>\n",
       "      <td>...</td>\n",
       "      <td>25</td>\n",
       "      <td>25</td>\n",
       "      <td>25</td>\n",
       "      <td>23</td>\n",
       "      <td>21</td>\n",
       "      <td>28.128874</td>\n",
       "      <td>-15.434945</td>\n",
       "      <td>{'Tenerife, Canary Islands': 117, 'Puerto del ...</td>\n",
       "      <td>NaN</td>\n",
       "      <td>Las Palmas, Canary Islands, Spain</td>\n",
       "    </tr>\n",
       "    <tr>\n",
       "      <th>75</th>\n",
       "      <td>Palawan</td>\n",
       "      <td>Philippines</td>\n",
       "      <td>https://nomadlist.com/assets/img/places/palawa...</td>\n",
       "      <td>3.84</td>\n",
       "      <td>3</td>\n",
       "      <td>3</td>\n",
       "      <td>1372.0</td>\n",
       "      <td>7.0</td>\n",
       "      <td>5.0</td>\n",
       "      <td>Good</td>\n",
       "      <td>...</td>\n",
       "      <td>31</td>\n",
       "      <td>31</td>\n",
       "      <td>31</td>\n",
       "      <td>31</td>\n",
       "      <td>30</td>\n",
       "      <td>10.000000</td>\n",
       "      <td>118.750000</td>\n",
       "      <td>{'Boracay': 409, 'Kota Kinabalu': 535, 'Makati...</td>\n",
       "      <td>NaN</td>\n",
       "      <td>Palawan, Philippines</td>\n",
       "    </tr>\n",
       "    <tr>\n",
       "      <th>100</th>\n",
       "      <td>Galle</td>\n",
       "      <td>Sri Lanka</td>\n",
       "      <td>https://nomadlist.com/assets/img/places/galle-...</td>\n",
       "      <td>3.76</td>\n",
       "      <td>3</td>\n",
       "      <td>3</td>\n",
       "      <td>1361.0</td>\n",
       "      <td>8.0</td>\n",
       "      <td>5.0</td>\n",
       "      <td>Good</td>\n",
       "      <td>...</td>\n",
       "      <td>29</td>\n",
       "      <td>29</td>\n",
       "      <td>29</td>\n",
       "      <td>30</td>\n",
       "      <td>29</td>\n",
       "      <td>6.032814</td>\n",
       "      <td>80.214955</td>\n",
       "      <td>{'Matara': 38, 'Colombo': 107, 'Kandy': 147, '...</td>\n",
       "      <td>NaN</td>\n",
       "      <td>Galle, Sri Lanka</td>\n",
       "    </tr>\n",
       "    <tr>\n",
       "      <th>...</th>\n",
       "      <td>...</td>\n",
       "      <td>...</td>\n",
       "      <td>...</td>\n",
       "      <td>...</td>\n",
       "      <td>...</td>\n",
       "      <td>...</td>\n",
       "      <td>...</td>\n",
       "      <td>...</td>\n",
       "      <td>...</td>\n",
       "      <td>...</td>\n",
       "      <td>...</td>\n",
       "      <td>...</td>\n",
       "      <td>...</td>\n",
       "      <td>...</td>\n",
       "      <td>...</td>\n",
       "      <td>...</td>\n",
       "      <td>...</td>\n",
       "      <td>...</td>\n",
       "      <td>...</td>\n",
       "      <td>...</td>\n",
       "      <td>...</td>\n",
       "    </tr>\n",
       "    <tr>\n",
       "      <th>1315</th>\n",
       "      <td>St. Cloud, MN</td>\n",
       "      <td>United States</td>\n",
       "      <td>https://nomadlist.com/assets/img/places/st-clo...</td>\n",
       "      <td>3.22</td>\n",
       "      <td>4</td>\n",
       "      <td>4</td>\n",
       "      <td>3860.0</td>\n",
       "      <td>44.0</td>\n",
       "      <td>3.0</td>\n",
       "      <td>Great</td>\n",
       "      <td>...</td>\n",
       "      <td>23</td>\n",
       "      <td>20</td>\n",
       "      <td>9</td>\n",
       "      <td>1</td>\n",
       "      <td>-3</td>\n",
       "      <td>45.561608</td>\n",
       "      <td>-94.164200</td>\n",
       "      <td>{'Minneapolis, MN': 95, 'Duluth, MN': 206, 'Ro...</td>\n",
       "      <td>NaN</td>\n",
       "      <td>St. Cloud, MN, United States</td>\n",
       "    </tr>\n",
       "    <tr>\n",
       "      <th>1316</th>\n",
       "      <td>Volgograd</td>\n",
       "      <td>Russia</td>\n",
       "      <td>https://nomadlist.com/assets/img/places/volgog...</td>\n",
       "      <td>3.22</td>\n",
       "      <td>3</td>\n",
       "      <td>2</td>\n",
       "      <td>1276.0</td>\n",
       "      <td>14.0</td>\n",
       "      <td>2.0</td>\n",
       "      <td>Okay</td>\n",
       "      <td>...</td>\n",
       "      <td>26</td>\n",
       "      <td>23</td>\n",
       "      <td>17</td>\n",
       "      <td>4</td>\n",
       "      <td>2</td>\n",
       "      <td>48.708191</td>\n",
       "      <td>44.515335</td>\n",
       "      <td>{'Saratov': 332, 'Novocherkassk': 358, 'Rostov...</td>\n",
       "      <td>NaN</td>\n",
       "      <td>Volgograd, Russia</td>\n",
       "    </tr>\n",
       "    <tr>\n",
       "      <th>1317</th>\n",
       "      <td>Columbia, MO</td>\n",
       "      <td>United States</td>\n",
       "      <td>https://nomadlist.com/assets/img/places/columb...</td>\n",
       "      <td>3.22</td>\n",
       "      <td>4</td>\n",
       "      <td>3</td>\n",
       "      <td>3637.0</td>\n",
       "      <td>35.0</td>\n",
       "      <td>3.0</td>\n",
       "      <td>Good</td>\n",
       "      <td>...</td>\n",
       "      <td>27</td>\n",
       "      <td>28</td>\n",
       "      <td>17</td>\n",
       "      <td>9</td>\n",
       "      <td>8</td>\n",
       "      <td>38.951883</td>\n",
       "      <td>-92.333737</td>\n",
       "      <td>{'Bridgeton, MO': 167, 'St. Louis, MO': 188, '...</td>\n",
       "      <td>NaN</td>\n",
       "      <td>Columbia, MO, United States</td>\n",
       "    </tr>\n",
       "    <tr>\n",
       "      <th>1318</th>\n",
       "      <td>Kampala</td>\n",
       "      <td>Uganda</td>\n",
       "      <td>https://nomadlist.com/assets/img/places/kampal...</td>\n",
       "      <td>3.22</td>\n",
       "      <td>3</td>\n",
       "      <td>2</td>\n",
       "      <td>955.0</td>\n",
       "      <td>67.0</td>\n",
       "      <td>3.0</td>\n",
       "      <td>Bad</td>\n",
       "      <td>...</td>\n",
       "      <td>24</td>\n",
       "      <td>25</td>\n",
       "      <td>24</td>\n",
       "      <td>24</td>\n",
       "      <td>24</td>\n",
       "      <td>0.317714</td>\n",
       "      <td>32.581354</td>\n",
       "      <td>{'Kigali': 377, 'Nairobi': 503, 'Juba': 515, '...</td>\n",
       "      <td>NaN</td>\n",
       "      <td>Kampala, Uganda</td>\n",
       "    </tr>\n",
       "    <tr>\n",
       "      <th>1319</th>\n",
       "      <td>La Serena</td>\n",
       "      <td>Chile</td>\n",
       "      <td>https://nomadlist.com/assets/img/places/la-ser...</td>\n",
       "      <td>3.21</td>\n",
       "      <td>3</td>\n",
       "      <td>3</td>\n",
       "      <td>1884.0</td>\n",
       "      <td>12.0</td>\n",
       "      <td>NaN</td>\n",
       "      <td>Okay</td>\n",
       "      <td>...</td>\n",
       "      <td>17</td>\n",
       "      <td>15</td>\n",
       "      <td>17</td>\n",
       "      <td>19</td>\n",
       "      <td>20</td>\n",
       "      <td>-29.902631</td>\n",
       "      <td>-71.252025</td>\n",
       "      <td>{'Viña del Mar': 348, 'Valparaíso': 351, 'Sant...</td>\n",
       "      <td>NaN</td>\n",
       "      <td>La Serena, Chile</td>\n",
       "    </tr>\n",
       "  </tbody>\n",
       "</table>\n",
       "<p>275 rows × 49 columns</p>\n",
       "</div>"
      ],
      "text/plain": [
       "                            City        Country  \\\n",
       "20           George Town, Penang       Malaysia   \n",
       "67             Nakhon Ratchasima       Thailand   \n",
       "69    Las Palmas, Canary Islands          Spain   \n",
       "75                       Palawan    Philippines   \n",
       "100                        Galle      Sri Lanka   \n",
       "...                          ...            ...   \n",
       "1315               St. Cloud, MN  United States   \n",
       "1316                   Volgograd         Russia   \n",
       "1317                Columbia, MO  United States   \n",
       "1318                     Kampala         Uganda   \n",
       "1319                   La Serena          Chile   \n",
       "\n",
       "                                                  Photo  Overall Score  \\\n",
       "20    https://nomadlist.com/assets/img/places/george...           4.15   \n",
       "67    https://nomadlist.com/assets/img/places/nakhon...           3.86   \n",
       "69    https://nomadlist.com/assets/img/places/las-pa...           3.77   \n",
       "75    https://nomadlist.com/assets/img/places/palawa...           3.84   \n",
       "100   https://nomadlist.com/assets/img/places/galle-...           3.76   \n",
       "...                                                 ...            ...   \n",
       "1315  https://nomadlist.com/assets/img/places/st-clo...           3.22   \n",
       "1316  https://nomadlist.com/assets/img/places/volgog...           3.22   \n",
       "1317  https://nomadlist.com/assets/img/places/columb...           3.22   \n",
       "1318  https://nomadlist.com/assets/img/places/kampal...           3.22   \n",
       "1319  https://nomadlist.com/assets/img/places/la-ser...           3.21   \n",
       "\n",
       "      Quality of life score  Family score  Cost/month (USD)  Internet Mbps  \\\n",
       "20                        4             3            1102.0           19.0   \n",
       "67                        3             3            1053.0           81.0   \n",
       "69                        4             4            2278.0           29.0   \n",
       "75                        3             3            1372.0            7.0   \n",
       "100                       3             3            1361.0            8.0   \n",
       "...                     ...           ...               ...            ...   \n",
       "1315                      4             4            3860.0           44.0   \n",
       "1316                      3             2            1276.0           14.0   \n",
       "1317                      4             3            3637.0           35.0   \n",
       "1318                      3             2             955.0           67.0   \n",
       "1319                      3             3            1884.0           12.0   \n",
       "\n",
       "      Fun Safety  ...  Temperature (°C) Aug  Temperature (°C) Sep  \\\n",
       "20    3.0   Good  ...                    31                    31   \n",
       "67    3.0  Great  ...                    30                    30   \n",
       "69    4.0  Great  ...                    25                    25   \n",
       "75    5.0   Good  ...                    31                    31   \n",
       "100   5.0   Good  ...                    29                    29   \n",
       "...   ...    ...  ...                   ...                   ...   \n",
       "1315  3.0  Great  ...                    23                    20   \n",
       "1316  2.0   Okay  ...                    26                    23   \n",
       "1317  3.0   Good  ...                    27                    28   \n",
       "1318  3.0    Bad  ...                    24                    25   \n",
       "1319  NaN   Okay  ...                    17                    15   \n",
       "\n",
       "      Temperature (°C) Oct  Temperature (°C) Nov  Temperature (°C) Dec  \\\n",
       "20                      30                    30                    30   \n",
       "67                      30                    29                    30   \n",
       "69                      25                    23                    21   \n",
       "75                      31                    31                    30   \n",
       "100                     29                    30                    29   \n",
       "...                    ...                   ...                   ...   \n",
       "1315                     9                     1                    -3   \n",
       "1316                    17                     4                     2   \n",
       "1317                    17                     9                     8   \n",
       "1318                    24                    24                    24   \n",
       "1319                    17                    19                    20   \n",
       "\n",
       "            lat         lng  \\\n",
       "20     5.414568  100.329803   \n",
       "67    15.224192  101.931375   \n",
       "69    28.128874  -15.434945   \n",
       "75    10.000000  118.750000   \n",
       "100    6.032814   80.214955   \n",
       "...         ...         ...   \n",
       "1315  45.561608  -94.164200   \n",
       "1316  48.708191   44.515335   \n",
       "1317  38.951883  -92.333737   \n",
       "1318   0.317714   32.581354   \n",
       "1319 -29.902631  -71.252025   \n",
       "\n",
       "                                    Closest Cities (km)  Continente  \\\n",
       "20    {'Langkawi': 121, 'Ipoh': 123, 'Ko Lipe': 164,...         NaN   \n",
       "67    {'Bangkok': 225, 'Udon Thani': 258, 'Pattaya':...         NaN   \n",
       "69    {'Tenerife, Canary Islands': 117, 'Puerto del ...         NaN   \n",
       "75    {'Boracay': 409, 'Kota Kinabalu': 535, 'Makati...         NaN   \n",
       "100   {'Matara': 38, 'Colombo': 107, 'Kandy': 147, '...         NaN   \n",
       "...                                                 ...         ...   \n",
       "1315  {'Minneapolis, MN': 95, 'Duluth, MN': 206, 'Ro...         NaN   \n",
       "1316  {'Saratov': 332, 'Novocherkassk': 358, 'Rostov...         NaN   \n",
       "1317  {'Bridgeton, MO': 167, 'St. Louis, MO': 188, '...         NaN   \n",
       "1318  {'Kigali': 377, 'Nairobi': 503, 'Juba': 515, '...         NaN   \n",
       "1319  {'Viña del Mar': 348, 'Valparaíso': 351, 'Sant...         NaN   \n",
       "\n",
       "                           City-Country  \n",
       "20        George Town, Penang, Malaysia  \n",
       "67          Nakhon Ratchasima, Thailand  \n",
       "69    Las Palmas, Canary Islands, Spain  \n",
       "75                 Palawan, Philippines  \n",
       "100                    Galle, Sri Lanka  \n",
       "...                                 ...  \n",
       "1315       St. Cloud, MN, United States  \n",
       "1316                  Volgograd, Russia  \n",
       "1317        Columbia, MO, United States  \n",
       "1318                    Kampala, Uganda  \n",
       "1319                   La Serena, Chile  \n",
       "\n",
       "[275 rows x 49 columns]"
      ]
     },
     "execution_count": 302,
     "metadata": {},
     "output_type": "execute_result"
    }
   ],
   "source": [
    "cities[cities['Continente'].isna()]"
   ]
  },
  {
   "cell_type": "code",
   "execution_count": 277,
   "metadata": {},
   "outputs": [],
   "source": [
    "#vamos a generar una lista de las ciudades más cercanas a cada una (menos de 1300km)\n",
    "\n",
    "#función para generar una lista con las ciudades más cercanas a cada una según su latitud y longitud\n",
    "def closest_cities(row,table):\n",
    "    rad = 6373.0\n",
    "    closest_d = []\n",
    "    closest_c = []\n",
    "    for i in range(len(table)):\n",
    "        try:\n",
    "            lat1 = math.radians(row[\"lat\"])\n",
    "            lon1 = math.radians(row[\"lng\"])\n",
    "            lat2 = math.radians(table.loc[i,\"lat\"])\n",
    "            lon2 = math.radians(table.loc[i,\"lng\"])\n",
    "            dlon = lon2 - lon1\n",
    "            dlat = lat2 - lat1\n",
    "            a = math.sin(dlat / 2)**2 + math.cos(lat1) * math.cos(lat2) * math.sin(dlon / 2)**2\n",
    "            c = 2 * math.atan2(math.sqrt(a), math.sqrt(1 - a))\n",
    "            distance = int(rad * c)\n",
    "            if distance <= 1300:\n",
    "                closest_d.append(distance)\n",
    "                closest_c.append(table.loc[i,\"City\"])\n",
    "        except:\n",
    "            pass  \n",
    "    zipped = zip(closest_c,closest_d)\n",
    "    sorted_zip = sorted(zipped, key=lambda tup: tup[1])\n",
    "    cerc = sorted_zip[1:6]\n",
    "    return dict(cerc)\n"
   ]
  },
  {
   "cell_type": "code",
   "execution_count": 278,
   "metadata": {},
   "outputs": [],
   "source": [
    "#generamos la columna de las ciudades más cercanas a cada ciudad\n",
    "cities[\"Closest Cities (km)\"] = cities.apply(lambda x: closest_cities(x,cities), axis = 1)"
   ]
  },
  {
   "cell_type": "code",
   "execution_count": 296,
   "metadata": {},
   "outputs": [
    {
     "data": {
      "text/html": [
       "<div>\n",
       "<style scoped>\n",
       "    .dataframe tbody tr th:only-of-type {\n",
       "        vertical-align: middle;\n",
       "    }\n",
       "\n",
       "    .dataframe tbody tr th {\n",
       "        vertical-align: top;\n",
       "    }\n",
       "\n",
       "    .dataframe thead th {\n",
       "        text-align: right;\n",
       "    }\n",
       "</style>\n",
       "<table border=\"1\" class=\"dataframe\">\n",
       "  <thead>\n",
       "    <tr style=\"text-align: right;\">\n",
       "      <th></th>\n",
       "      <th>City</th>\n",
       "      <th>Country</th>\n",
       "      <th>Photo</th>\n",
       "      <th>Overall Score</th>\n",
       "      <th>Quality of life score</th>\n",
       "      <th>Family score</th>\n",
       "      <th>Cost/month (USD)</th>\n",
       "      <th>Internet Mbps</th>\n",
       "      <th>Fun</th>\n",
       "      <th>Safety</th>\n",
       "      <th>...</th>\n",
       "      <th>Temperature (°C) Jul</th>\n",
       "      <th>Temperature (°C) Aug</th>\n",
       "      <th>Temperature (°C) Sep</th>\n",
       "      <th>Temperature (°C) Oct</th>\n",
       "      <th>Temperature (°C) Nov</th>\n",
       "      <th>Temperature (°C) Dec</th>\n",
       "      <th>lat</th>\n",
       "      <th>lng</th>\n",
       "      <th>Closest Cities (km)</th>\n",
       "      <th>Continente</th>\n",
       "    </tr>\n",
       "  </thead>\n",
       "  <tbody>\n",
       "    <tr>\n",
       "      <th>0</th>\n",
       "      <td>Lisbon</td>\n",
       "      <td>Portugal</td>\n",
       "      <td>https://nomadlist.com/assets/img/places/lisbon...</td>\n",
       "      <td>4.68</td>\n",
       "      <td>4</td>\n",
       "      <td>4</td>\n",
       "      <td>2006.0</td>\n",
       "      <td>27.0</td>\n",
       "      <td>4.0</td>\n",
       "      <td>Great</td>\n",
       "      <td>...</td>\n",
       "      <td>23</td>\n",
       "      <td>25</td>\n",
       "      <td>24</td>\n",
       "      <td>21</td>\n",
       "      <td>17</td>\n",
       "      <td>16</td>\n",
       "      <td>38.707751</td>\n",
       "      <td>-9.136592</td>\n",
       "      <td>{'Ericeira': 37, 'Coimbra': 177, 'Portimão': 1...</td>\n",
       "      <td>Europe</td>\n",
       "    </tr>\n",
       "    <tr>\n",
       "      <th>1</th>\n",
       "      <td>Canggu, Bali</td>\n",
       "      <td>Indonesia</td>\n",
       "      <td>https://nomadlist.com/assets/img/places/canggu...</td>\n",
       "      <td>4.61</td>\n",
       "      <td>4</td>\n",
       "      <td>4</td>\n",
       "      <td>1247.0</td>\n",
       "      <td>19.0</td>\n",
       "      <td>4.0</td>\n",
       "      <td>Great</td>\n",
       "      <td>...</td>\n",
       "      <td>27</td>\n",
       "      <td>27</td>\n",
       "      <td>27</td>\n",
       "      <td>29</td>\n",
       "      <td>30</td>\n",
       "      <td>31</td>\n",
       "      <td>-8.650618</td>\n",
       "      <td>115.136499</td>\n",
       "      <td>{'Seminyak, Bali': 5, 'Denpasar, Bali': 9, 'Ku...</td>\n",
       "      <td>Asia</td>\n",
       "    </tr>\n",
       "    <tr>\n",
       "      <th>2</th>\n",
       "      <td>Mexico City</td>\n",
       "      <td>Mexico</td>\n",
       "      <td>https://nomadlist.com/assets/img/places/mexico...</td>\n",
       "      <td>4.46</td>\n",
       "      <td>4</td>\n",
       "      <td>3</td>\n",
       "      <td>1278.0</td>\n",
       "      <td>19.0</td>\n",
       "      <td>4.0</td>\n",
       "      <td>Okay</td>\n",
       "      <td>...</td>\n",
       "      <td>21</td>\n",
       "      <td>22</td>\n",
       "      <td>21</td>\n",
       "      <td>21</td>\n",
       "      <td>21</td>\n",
       "      <td>20</td>\n",
       "      <td>19.432630</td>\n",
       "      <td>-99.133178</td>\n",
       "      <td>{'Toluca': 57, 'Puebla': 107, 'Queretaro': 184...</td>\n",
       "      <td>North America</td>\n",
       "    </tr>\n",
       "  </tbody>\n",
       "</table>\n",
       "<p>3 rows × 48 columns</p>\n",
       "</div>"
      ],
      "text/plain": [
       "           City    Country                                              Photo  \\\n",
       "0        Lisbon   Portugal  https://nomadlist.com/assets/img/places/lisbon...   \n",
       "1  Canggu, Bali  Indonesia  https://nomadlist.com/assets/img/places/canggu...   \n",
       "2   Mexico City     Mexico  https://nomadlist.com/assets/img/places/mexico...   \n",
       "\n",
       "   Overall Score  Quality of life score  Family score  Cost/month (USD)  \\\n",
       "0           4.68                      4             4            2006.0   \n",
       "1           4.61                      4             4            1247.0   \n",
       "2           4.46                      4             3            1278.0   \n",
       "\n",
       "   Internet Mbps  Fun Safety  ...  Temperature (°C) Jul  Temperature (°C) Aug  \\\n",
       "0           27.0  4.0  Great  ...                    23                    25   \n",
       "1           19.0  4.0  Great  ...                    27                    27   \n",
       "2           19.0  4.0   Okay  ...                    21                    22   \n",
       "\n",
       "   Temperature (°C) Sep  Temperature (°C) Oct  Temperature (°C) Nov  \\\n",
       "0                    24                    21                    17   \n",
       "1                    27                    29                    30   \n",
       "2                    21                    21                    21   \n",
       "\n",
       "   Temperature (°C) Dec        lat         lng  \\\n",
       "0                    16  38.707751   -9.136592   \n",
       "1                    31  -8.650618  115.136499   \n",
       "2                    20  19.432630  -99.133178   \n",
       "\n",
       "                                 Closest Cities (km)     Continente  \n",
       "0  {'Ericeira': 37, 'Coimbra': 177, 'Portimão': 1...         Europe  \n",
       "1  {'Seminyak, Bali': 5, 'Denpasar, Bali': 9, 'Ku...           Asia  \n",
       "2  {'Toluca': 57, 'Puebla': 107, 'Queretaro': 184...  North America  \n",
       "\n",
       "[3 rows x 48 columns]"
      ]
     },
     "execution_count": 296,
     "metadata": {},
     "output_type": "execute_result"
    }
   ],
   "source": [
    "#muestra de la tabla incluyendo ciudades cercanas\n",
    "cities.head(3)"
   ]
  },
  {
   "cell_type": "code",
   "execution_count": 303,
   "metadata": {},
   "outputs": [],
   "source": [
    "#vamos a agregar una columna que tenga ciudad y pais concatenada\n",
    "\n",
    "cities['City-Country'] = cities.apply(lambda x: x['City']+', '+x['Country'], axis=1)"
   ]
  },
  {
   "cell_type": "code",
   "execution_count": 304,
   "metadata": {},
   "outputs": [],
   "source": [
    "#actualizamos el csv con los valores tabla\n",
    "cities.to_csv('../data/nomadlist_cities.csv',index=False)"
   ]
  },
  {
   "cell_type": "markdown",
   "metadata": {},
   "source": [
    "### 2. Travelers csv scraped from Nomad list (clean and add information to the table)"
   ]
  },
  {
   "cell_type": "code",
   "execution_count": 11,
   "metadata": {},
   "outputs": [
    {
     "data": {
      "text/html": [
       "<div>\n",
       "<style scoped>\n",
       "    .dataframe tbody tr th:only-of-type {\n",
       "        vertical-align: middle;\n",
       "    }\n",
       "\n",
       "    .dataframe tbody tr th {\n",
       "        vertical-align: top;\n",
       "    }\n",
       "\n",
       "    .dataframe thead th {\n",
       "        text-align: right;\n",
       "    }\n",
       "</style>\n",
       "<table border=\"1\" class=\"dataframe\">\n",
       "  <thead>\n",
       "    <tr style=\"text-align: right;\">\n",
       "      <th></th>\n",
       "      <th>user</th>\n",
       "      <th>City</th>\n",
       "      <th>Country</th>\n",
       "      <th>Time (days)</th>\n",
       "    </tr>\n",
       "  </thead>\n",
       "  <tbody>\n",
       "    <tr>\n",
       "      <th>0</th>\n",
       "      <td>100marc</td>\n",
       "      <td>Fort Lauderdale, FL</td>\n",
       "      <td>United States</td>\n",
       "      <td>557</td>\n",
       "    </tr>\n",
       "    <tr>\n",
       "      <th>1</th>\n",
       "      <td>100marc</td>\n",
       "      <td>Miami, FL</td>\n",
       "      <td>United States</td>\n",
       "      <td>475</td>\n",
       "    </tr>\n",
       "    <tr>\n",
       "      <th>2</th>\n",
       "      <td>10kjuan</td>\n",
       "      <td>Andorra la Vella</td>\n",
       "      <td>Andorra</td>\n",
       "      <td>1</td>\n",
       "    </tr>\n",
       "    <tr>\n",
       "      <th>3</th>\n",
       "      <td>10kjuan</td>\n",
       "      <td>Barcelona</td>\n",
       "      <td>Spain</td>\n",
       "      <td>236</td>\n",
       "    </tr>\n",
       "    <tr>\n",
       "      <th>4</th>\n",
       "      <td>10kjuan</td>\n",
       "      <td>Belgrade</td>\n",
       "      <td>Serbia</td>\n",
       "      <td>7</td>\n",
       "    </tr>\n",
       "  </tbody>\n",
       "</table>\n",
       "</div>"
      ],
      "text/plain": [
       "      user                 City        Country  Time (days)\n",
       "0  100marc  Fort Lauderdale, FL  United States          557\n",
       "1  100marc            Miami, FL  United States          475\n",
       "2  10kjuan     Andorra la Vella        Andorra            1\n",
       "3  10kjuan            Barcelona          Spain          236\n",
       "4  10kjuan             Belgrade         Serbia            7"
      ]
     },
     "execution_count": 11,
     "metadata": {},
     "output_type": "execute_result"
    }
   ],
   "source": [
    "#importamos csv de viajeros y las ciudades visitadas escrapeado de Nomad list\n",
    "users = pd.read_csv('../data/user_cities.csv')\n",
    "\n",
    "#muestra de la tabla\n",
    "users.head()"
   ]
  },
  {
   "cell_type": "code",
   "execution_count": 112,
   "metadata": {},
   "outputs": [
    {
     "data": {
      "text/plain": [
       "(35325, 4)"
      ]
     },
     "execution_count": 112,
     "metadata": {},
     "output_type": "execute_result"
    }
   ],
   "source": [
    "#tamaño de la tabla\n",
    "users.shape"
   ]
  },
  {
   "cell_type": "code",
   "execution_count": 114,
   "metadata": {},
   "outputs": [
    {
     "data": {
      "text/plain": [
       "user           0\n",
       "City           0\n",
       "Country        0\n",
       "Time (days)    0\n",
       "dtype: int64"
      ]
     },
     "execution_count": 114,
     "metadata": {},
     "output_type": "execute_result"
    }
   ],
   "source": [
    "#nulos en la tabla\n",
    "users.isna().sum()"
   ]
  },
  {
   "cell_type": "code",
   "execution_count": 121,
   "metadata": {},
   "outputs": [],
   "source": [
    "#vamos a agregar una columna que tenga ciudad y pais concatenada\n",
    "\n",
    "users['City-Country'] = users.apply(lambda x: x['City']+', '+x['Country'], axis=1)"
   ]
  },
  {
   "cell_type": "code",
   "execution_count": 123,
   "metadata": {},
   "outputs": [
    {
     "data": {
      "text/html": [
       "<div>\n",
       "<style scoped>\n",
       "    .dataframe tbody tr th:only-of-type {\n",
       "        vertical-align: middle;\n",
       "    }\n",
       "\n",
       "    .dataframe tbody tr th {\n",
       "        vertical-align: top;\n",
       "    }\n",
       "\n",
       "    .dataframe thead th {\n",
       "        text-align: right;\n",
       "    }\n",
       "</style>\n",
       "<table border=\"1\" class=\"dataframe\">\n",
       "  <thead>\n",
       "    <tr style=\"text-align: right;\">\n",
       "      <th></th>\n",
       "      <th>user</th>\n",
       "      <th>City</th>\n",
       "      <th>Country</th>\n",
       "      <th>Time (days)</th>\n",
       "      <th>City-Country</th>\n",
       "    </tr>\n",
       "  </thead>\n",
       "  <tbody>\n",
       "    <tr>\n",
       "      <th>0</th>\n",
       "      <td>100marc</td>\n",
       "      <td>Fort Lauderdale, FL</td>\n",
       "      <td>United States</td>\n",
       "      <td>557</td>\n",
       "      <td>Fort Lauderdale, FL, United States</td>\n",
       "    </tr>\n",
       "    <tr>\n",
       "      <th>1</th>\n",
       "      <td>100marc</td>\n",
       "      <td>Miami, FL</td>\n",
       "      <td>United States</td>\n",
       "      <td>475</td>\n",
       "      <td>Miami, FL, United States</td>\n",
       "    </tr>\n",
       "    <tr>\n",
       "      <th>2</th>\n",
       "      <td>10kjuan</td>\n",
       "      <td>Andorra la Vella</td>\n",
       "      <td>Andorra</td>\n",
       "      <td>1</td>\n",
       "      <td>Andorra la Vella, Andorra</td>\n",
       "    </tr>\n",
       "    <tr>\n",
       "      <th>3</th>\n",
       "      <td>10kjuan</td>\n",
       "      <td>Barcelona</td>\n",
       "      <td>Spain</td>\n",
       "      <td>236</td>\n",
       "      <td>Barcelona, Spain</td>\n",
       "    </tr>\n",
       "    <tr>\n",
       "      <th>4</th>\n",
       "      <td>10kjuan</td>\n",
       "      <td>Belgrade</td>\n",
       "      <td>Serbia</td>\n",
       "      <td>7</td>\n",
       "      <td>Belgrade, Serbia</td>\n",
       "    </tr>\n",
       "  </tbody>\n",
       "</table>\n",
       "</div>"
      ],
      "text/plain": [
       "      user                 City        Country  Time (days)  \\\n",
       "0  100marc  Fort Lauderdale, FL  United States          557   \n",
       "1  100marc            Miami, FL  United States          475   \n",
       "2  10kjuan     Andorra la Vella        Andorra            1   \n",
       "3  10kjuan            Barcelona          Spain          236   \n",
       "4  10kjuan             Belgrade         Serbia            7   \n",
       "\n",
       "                         City-Country  \n",
       "0  Fort Lauderdale, FL, United States  \n",
       "1            Miami, FL, United States  \n",
       "2           Andorra la Vella, Andorra  \n",
       "3                    Barcelona, Spain  \n",
       "4                    Belgrade, Serbia  "
      ]
     },
     "execution_count": 123,
     "metadata": {},
     "output_type": "execute_result"
    }
   ],
   "source": [
    "#muestra de la tabla\n",
    "users.head()"
   ]
  },
  {
   "cell_type": "code",
   "execution_count": 124,
   "metadata": {},
   "outputs": [],
   "source": [
    "#actualizamos el csv con los valores tabla\n",
    "users.to_csv('../data/user_cities.csv',index=False)"
   ]
  },
  {
   "cell_type": "markdown",
   "metadata": {},
   "source": [
    "### 3. Cities names in english and spanish"
   ]
  },
  {
   "cell_type": "code",
   "execution_count": 244,
   "metadata": {},
   "outputs": [],
   "source": [
    "cities_lang = cities[['City','Country']]\n",
    "cities_lang['City-Country_EN'] = cities_lang.apply(lambda x: x['City']+', '+x['Country'], axis=1)"
   ]
  },
  {
   "cell_type": "code",
   "execution_count": 245,
   "metadata": {},
   "outputs": [],
   "source": [
    "#tenemos una lista con las ciudades traducidas a español en otro archivo, lo importamos\n",
    "%reload_ext autoreload\n",
    "%autoreload 2\n",
    "\n",
    "from ciudades_en_ES import ciudades_pais_ES\n",
    "from ciudades_en_ES import ciudades_ES"
   ]
  },
  {
   "cell_type": "code",
   "execution_count": 246,
   "metadata": {},
   "outputs": [],
   "source": [
    "#agregamos las columnas al dataframe\n",
    "cities_lang['City_ES'] = ciudades_ES\n",
    "cities_lang['City-Country_ES'] = ciudades_pais_ES"
   ]
  },
  {
   "cell_type": "code",
   "execution_count": 247,
   "metadata": {},
   "outputs": [
    {
     "data": {
      "text/plain": [
       "\"cities_lang['Other_2'] = cities_lang.apply(lambda x: x['City'] if ', ' not in x['City'] else x['City'].split(', ')[1], axis=1)\\ncities_lang['Other_ES_2'] = cities_lang.apply(lambda x: x['City_ES'] if ', ' not in x['City_ES'] else x['City'].split(', ')[1], axis=1)\""
      ]
     },
     "execution_count": 247,
     "metadata": {},
     "output_type": "execute_result"
    }
   ],
   "source": [
    "#agregamos la columna de otros al dataframe con otras opciones de ciudades\n",
    "cities_lang['Other'] = cities_lang.apply(lambda x: x['City'] if ', ' not in x['City'] else x['City'].split(', ')[0], axis=1)\n",
    "cities_lang['Other_ES'] = cities_lang.apply(lambda x: x['City_ES'] if ', ' not in x['City_ES'] else x['City'].split(', ')[0], axis=1)\n",
    "\n",
    "'''cities_lang['Other_2'] = cities_lang.apply(lambda x: x['City'] if ', ' not in x['City'] else x['City'].split(', ')[1], axis=1)\n",
    "cities_lang['Other_ES_2'] = cities_lang.apply(lambda x: x['City_ES'] if ', ' not in x['City_ES'] else x['City'].split(', ')[1], axis=1)'''"
   ]
  },
  {
   "cell_type": "code",
   "execution_count": 248,
   "metadata": {},
   "outputs": [
    {
     "data": {
      "text/html": [
       "<div>\n",
       "<style scoped>\n",
       "    .dataframe tbody tr th:only-of-type {\n",
       "        vertical-align: middle;\n",
       "    }\n",
       "\n",
       "    .dataframe tbody tr th {\n",
       "        vertical-align: top;\n",
       "    }\n",
       "\n",
       "    .dataframe thead th {\n",
       "        text-align: right;\n",
       "    }\n",
       "</style>\n",
       "<table border=\"1\" class=\"dataframe\">\n",
       "  <thead>\n",
       "    <tr style=\"text-align: right;\">\n",
       "      <th></th>\n",
       "      <th>City</th>\n",
       "      <th>Country</th>\n",
       "      <th>City-Country_EN</th>\n",
       "      <th>City_ES</th>\n",
       "      <th>City-Country_ES</th>\n",
       "      <th>Other</th>\n",
       "      <th>Other_ES</th>\n",
       "    </tr>\n",
       "  </thead>\n",
       "  <tbody>\n",
       "    <tr>\n",
       "      <th>0</th>\n",
       "      <td>Lisbon</td>\n",
       "      <td>Portugal</td>\n",
       "      <td>Lisbon, Portugal</td>\n",
       "      <td>Lisboa</td>\n",
       "      <td>Lisboa, Portugal</td>\n",
       "      <td>Lisbon</td>\n",
       "      <td>Lisboa</td>\n",
       "    </tr>\n",
       "    <tr>\n",
       "      <th>1</th>\n",
       "      <td>Canggu, Bali</td>\n",
       "      <td>Indonesia</td>\n",
       "      <td>Canggu, Bali, Indonesia</td>\n",
       "      <td>Canggu, Bali</td>\n",
       "      <td>Canggu, Bali, Indonesia</td>\n",
       "      <td>Canggu</td>\n",
       "      <td>Canggu</td>\n",
       "    </tr>\n",
       "    <tr>\n",
       "      <th>2</th>\n",
       "      <td>Mexico City</td>\n",
       "      <td>Mexico</td>\n",
       "      <td>Mexico City, Mexico</td>\n",
       "      <td>Ciudad de México</td>\n",
       "      <td>Ciudad de México, México</td>\n",
       "      <td>Mexico City</td>\n",
       "      <td>Ciudad de México</td>\n",
       "    </tr>\n",
       "    <tr>\n",
       "      <th>3</th>\n",
       "      <td>Chiang Mai</td>\n",
       "      <td>Thailand</td>\n",
       "      <td>Chiang Mai, Thailand</td>\n",
       "      <td>Chiang Mai</td>\n",
       "      <td>Chiang Mai, Tailandia</td>\n",
       "      <td>Chiang Mai</td>\n",
       "      <td>Chiang Mai</td>\n",
       "    </tr>\n",
       "    <tr>\n",
       "      <th>4</th>\n",
       "      <td>Belgrade</td>\n",
       "      <td>Serbia</td>\n",
       "      <td>Belgrade, Serbia</td>\n",
       "      <td>Belgrado</td>\n",
       "      <td>Belgrado, Serbia</td>\n",
       "      <td>Belgrade</td>\n",
       "      <td>Belgrado</td>\n",
       "    </tr>\n",
       "    <tr>\n",
       "      <th>...</th>\n",
       "      <td>...</td>\n",
       "      <td>...</td>\n",
       "      <td>...</td>\n",
       "      <td>...</td>\n",
       "      <td>...</td>\n",
       "      <td>...</td>\n",
       "      <td>...</td>\n",
       "    </tr>\n",
       "    <tr>\n",
       "      <th>1315</th>\n",
       "      <td>St. Cloud, MN</td>\n",
       "      <td>United States</td>\n",
       "      <td>St. Cloud, MN, United States</td>\n",
       "      <td>St. Cloud, MN</td>\n",
       "      <td>S t. Cloud, MN, Estados Unidos</td>\n",
       "      <td>St. Cloud</td>\n",
       "      <td>St. Cloud</td>\n",
       "    </tr>\n",
       "    <tr>\n",
       "      <th>1316</th>\n",
       "      <td>Volgograd</td>\n",
       "      <td>Russia</td>\n",
       "      <td>Volgograd, Russia</td>\n",
       "      <td>Volgogrado</td>\n",
       "      <td>Volgogrado, Rusia</td>\n",
       "      <td>Volgograd</td>\n",
       "      <td>Volgogrado</td>\n",
       "    </tr>\n",
       "    <tr>\n",
       "      <th>1317</th>\n",
       "      <td>Columbia, MO</td>\n",
       "      <td>United States</td>\n",
       "      <td>Columbia, MO, United States</td>\n",
       "      <td>Columbia, MO</td>\n",
       "      <td>Columbia, MO, Estados Unidos</td>\n",
       "      <td>Columbia</td>\n",
       "      <td>Columbia</td>\n",
       "    </tr>\n",
       "    <tr>\n",
       "      <th>1318</th>\n",
       "      <td>Kampala</td>\n",
       "      <td>Uganda</td>\n",
       "      <td>Kampala, Uganda</td>\n",
       "      <td>Kampala</td>\n",
       "      <td>Kampala, Uganda</td>\n",
       "      <td>Kampala</td>\n",
       "      <td>Kampala</td>\n",
       "    </tr>\n",
       "    <tr>\n",
       "      <th>1319</th>\n",
       "      <td>La Serena</td>\n",
       "      <td>Chile</td>\n",
       "      <td>La Serena, Chile</td>\n",
       "      <td>La Serena</td>\n",
       "      <td>La Serena, Chile</td>\n",
       "      <td>La Serena</td>\n",
       "      <td>La Serena</td>\n",
       "    </tr>\n",
       "  </tbody>\n",
       "</table>\n",
       "<p>1320 rows × 7 columns</p>\n",
       "</div>"
      ],
      "text/plain": [
       "               City        Country               City-Country_EN  \\\n",
       "0            Lisbon       Portugal              Lisbon, Portugal   \n",
       "1      Canggu, Bali      Indonesia       Canggu, Bali, Indonesia   \n",
       "2       Mexico City         Mexico           Mexico City, Mexico   \n",
       "3        Chiang Mai       Thailand          Chiang Mai, Thailand   \n",
       "4          Belgrade         Serbia              Belgrade, Serbia   \n",
       "...             ...            ...                           ...   \n",
       "1315  St. Cloud, MN  United States  St. Cloud, MN, United States   \n",
       "1316      Volgograd         Russia             Volgograd, Russia   \n",
       "1317   Columbia, MO  United States   Columbia, MO, United States   \n",
       "1318        Kampala         Uganda               Kampala, Uganda   \n",
       "1319      La Serena          Chile              La Serena, Chile   \n",
       "\n",
       "               City_ES                  City-Country_ES        Other  \\\n",
       "0               Lisboa                 Lisboa, Portugal       Lisbon   \n",
       "1         Canggu, Bali          Canggu, Bali, Indonesia       Canggu   \n",
       "2     Ciudad de México         Ciudad de México, México  Mexico City   \n",
       "3           Chiang Mai            Chiang Mai, Tailandia   Chiang Mai   \n",
       "4             Belgrado                 Belgrado, Serbia     Belgrade   \n",
       "...                ...                              ...          ...   \n",
       "1315     St. Cloud, MN  S t. Cloud, MN, Estados Unidos     St. Cloud   \n",
       "1316        Volgogrado                Volgogrado, Rusia    Volgograd   \n",
       "1317      Columbia, MO     Columbia, MO, Estados Unidos     Columbia   \n",
       "1318           Kampala                  Kampala, Uganda      Kampala   \n",
       "1319         La Serena                 La Serena, Chile    La Serena   \n",
       "\n",
       "              Other_ES  \n",
       "0               Lisboa  \n",
       "1               Canggu  \n",
       "2     Ciudad de México  \n",
       "3           Chiang Mai  \n",
       "4             Belgrado  \n",
       "...                ...  \n",
       "1315         St. Cloud  \n",
       "1316        Volgogrado  \n",
       "1317          Columbia  \n",
       "1318           Kampala  \n",
       "1319         La Serena  \n",
       "\n",
       "[1320 rows x 7 columns]"
      ]
     },
     "execution_count": 248,
     "metadata": {},
     "output_type": "execute_result"
    }
   ],
   "source": [
    "#muestra de la tabla\n",
    "cities_lang"
   ]
  },
  {
   "cell_type": "code",
   "execution_count": 249,
   "metadata": {},
   "outputs": [],
   "source": [
    "#generamos el csv con los valores tabla\n",
    "cities_lang.to_csv('../data/cities_lang.csv',index=False)"
   ]
  },
  {
   "cell_type": "markdown",
   "metadata": {},
   "source": [
    "### 4. Dataframe that combine all the columns from cities_lang into 1 column (to match cities)"
   ]
  },
  {
   "cell_type": "code",
   "execution_count": 251,
   "metadata": {},
   "outputs": [],
   "source": [
    "#generamos una tabla que solo traiga una columna con todos los valores y su City_Country_EN\n",
    "#Esto va a servir para machear ciudades\n",
    "\n",
    "city_lst = cities_lang[['City','City-Country_EN']]\n",
    "\n",
    "lst = ['City_ES', 'City-Country_ES',\n",
    "       'Other', 'Other_ES']\n",
    "\n",
    "for i in lst:\n",
    "    city = cities_lang[[i,'City-Country_EN']]\n",
    "    city.columns = ['City','City-Country_EN']\n",
    "\n",
    "    city_lst = city_lst.merge(city, how='outer')"
   ]
  },
  {
   "cell_type": "code",
   "execution_count": 252,
   "metadata": {},
   "outputs": [
    {
     "data": {
      "text/html": [
       "<div>\n",
       "<style scoped>\n",
       "    .dataframe tbody tr th:only-of-type {\n",
       "        vertical-align: middle;\n",
       "    }\n",
       "\n",
       "    .dataframe tbody tr th {\n",
       "        vertical-align: top;\n",
       "    }\n",
       "\n",
       "    .dataframe thead th {\n",
       "        text-align: right;\n",
       "    }\n",
       "</style>\n",
       "<table border=\"1\" class=\"dataframe\">\n",
       "  <thead>\n",
       "    <tr style=\"text-align: right;\">\n",
       "      <th></th>\n",
       "      <th>City</th>\n",
       "      <th>City-Country_EN</th>\n",
       "    </tr>\n",
       "  </thead>\n",
       "  <tbody>\n",
       "    <tr>\n",
       "      <th>0</th>\n",
       "      <td>Lisbon</td>\n",
       "      <td>Lisbon, Portugal</td>\n",
       "    </tr>\n",
       "    <tr>\n",
       "      <th>1</th>\n",
       "      <td>Canggu, Bali</td>\n",
       "      <td>Canggu, Bali, Indonesia</td>\n",
       "    </tr>\n",
       "    <tr>\n",
       "      <th>2</th>\n",
       "      <td>Mexico City</td>\n",
       "      <td>Mexico City, Mexico</td>\n",
       "    </tr>\n",
       "    <tr>\n",
       "      <th>3</th>\n",
       "      <td>Chiang Mai</td>\n",
       "      <td>Chiang Mai, Thailand</td>\n",
       "    </tr>\n",
       "    <tr>\n",
       "      <th>4</th>\n",
       "      <td>Belgrade</td>\n",
       "      <td>Belgrade, Serbia</td>\n",
       "    </tr>\n",
       "    <tr>\n",
       "      <th>...</th>\n",
       "      <td>...</td>\n",
       "      <td>...</td>\n",
       "    </tr>\n",
       "    <tr>\n",
       "      <th>3215</th>\n",
       "      <td>Fairfax</td>\n",
       "      <td>Fairfax, VA, United States</td>\n",
       "    </tr>\n",
       "    <tr>\n",
       "      <th>3216</th>\n",
       "      <td>Wilmington</td>\n",
       "      <td>Wilmington, NC, United States</td>\n",
       "    </tr>\n",
       "    <tr>\n",
       "      <th>3217</th>\n",
       "      <td>Flint</td>\n",
       "      <td>Flint, MI, United States</td>\n",
       "    </tr>\n",
       "    <tr>\n",
       "      <th>3218</th>\n",
       "      <td>St. Cloud</td>\n",
       "      <td>St. Cloud, MN, United States</td>\n",
       "    </tr>\n",
       "    <tr>\n",
       "      <th>3219</th>\n",
       "      <td>Columbia</td>\n",
       "      <td>Columbia, MO, United States</td>\n",
       "    </tr>\n",
       "  </tbody>\n",
       "</table>\n",
       "<p>3220 rows × 2 columns</p>\n",
       "</div>"
      ],
      "text/plain": [
       "              City                City-Country_EN\n",
       "0           Lisbon               Lisbon, Portugal\n",
       "1     Canggu, Bali        Canggu, Bali, Indonesia\n",
       "2      Mexico City            Mexico City, Mexico\n",
       "3       Chiang Mai           Chiang Mai, Thailand\n",
       "4         Belgrade               Belgrade, Serbia\n",
       "...            ...                            ...\n",
       "3215       Fairfax     Fairfax, VA, United States\n",
       "3216    Wilmington  Wilmington, NC, United States\n",
       "3217         Flint       Flint, MI, United States\n",
       "3218     St. Cloud   St. Cloud, MN, United States\n",
       "3219      Columbia    Columbia, MO, United States\n",
       "\n",
       "[3220 rows x 2 columns]"
      ]
     },
     "execution_count": 252,
     "metadata": {},
     "output_type": "execute_result"
    }
   ],
   "source": [
    "#muestra de la tabla\n",
    "city_lst"
   ]
  },
  {
   "cell_type": "code",
   "execution_count": 253,
   "metadata": {},
   "outputs": [],
   "source": [
    "#generamos el csv con los valores tabla\n",
    "city_lst.to_csv('../data/cities_for_user_input.csv',index=False)"
   ]
  },
  {
   "cell_type": "code",
   "execution_count": null,
   "metadata": {},
   "outputs": [],
   "source": []
  }
 ],
 "metadata": {
  "kernelspec": {
   "display_name": "Python 3",
   "language": "python",
   "name": "python3"
  },
  "language_info": {
   "codemirror_mode": {
    "name": "ipython",
    "version": 3
   },
   "file_extension": ".py",
   "mimetype": "text/x-python",
   "name": "python",
   "nbconvert_exporter": "python",
   "pygments_lexer": "ipython3",
   "version": "3.8.5"
  }
 },
 "nbformat": 4,
 "nbformat_minor": 4
}
