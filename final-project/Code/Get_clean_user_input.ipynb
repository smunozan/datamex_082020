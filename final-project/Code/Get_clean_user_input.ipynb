{
 "cells": [
  {
   "cell_type": "markdown",
   "metadata": {},
   "source": [
    "# Final project: \n",
    "# Step 5: Get and clean user input"
   ]
  },
  {
   "cell_type": "code",
   "execution_count": 3,
   "metadata": {},
   "outputs": [],
   "source": [
    "#Importar librerias necesarias\n",
    "import speech_recognition as sr"
   ]
  },
  {
   "cell_type": "code",
   "execution_count": 47,
   "metadata": {},
   "outputs": [],
   "source": [
    "#función para escuchar reconocer desde el micrófono\n",
    "def mic_rec():\n",
    "    r = sr.Recognizer()\n",
    "    with sr.Microphone() as source:\n",
    "        print(\"Speak Anything:\")\n",
    "        audio = r.listen(source)\n",
    "        try:\n",
    "            text = r.recognize_google(audio, language=\"es-en\")\n",
    "            print(\"You said: {}\".format(text))\n",
    "            return text\n",
    "        except:\n",
    "            print(\"Sorry could not recognize what you said\")\n",
    "            mic_rec()"
   ]
  },
  {
   "cell_type": "code",
   "execution_count": 51,
   "metadata": {},
   "outputs": [
    {
     "name": "stdout",
     "output_type": "stream",
     "text": [
      "Speak Anything:\n",
      "You said: Bangkok Ciudad de México Seattle Houston quito Islas Galápagos\n",
      "CPU times: user 82.6 ms, sys: 75.6 ms, total: 158 ms\n",
      "Wall time: 10.8 s\n"
     ]
    },
    {
     "data": {
      "text/plain": [
       "'Bangkok Ciudad de México Seattle Houston quito Islas Galápagos'"
      ]
     },
     "execution_count": 51,
     "metadata": {},
     "output_type": "execute_result"
    }
   ],
   "source": [
    "#prueba de función de microfono\n",
    "%%time\n",
    "mic_rec()"
   ]
  },
  {
   "cell_type": "code",
   "execution_count": 52,
   "metadata": {},
   "outputs": [],
   "source": [
    "#limpieza de datos\n",
    "def clean_city_input(text):\n",
    "    with open('stopwords_es.txt', 'r') as f:\n",
    "        sw = [line.strip() for line in f]\n",
    "    sep_clean = [i for i in text.split(\" \") if i not in sw]\n",
    "    combinaciones = sep_clean + [e+' '+sep_clean[i+1] for i,e in enumerate(sep_clean) if i+1<len(sep_clean)]\n",
    "    return combinaciones"
   ]
  },
  {
   "cell_type": "code",
   "execution_count": 56,
   "metadata": {},
   "outputs": [
    {
     "name": "stdout",
     "output_type": "stream",
     "text": [
      "Speak Anything:\n",
      "You said: Hola mucho gusto Me llamo Sebastián y estudiando Data Science\n"
     ]
    },
    {
     "data": {
      "text/plain": [
       "['Hola',\n",
       " 'gusto',\n",
       " 'Me',\n",
       " 'llamo',\n",
       " 'Sebastián',\n",
       " 'estudiando',\n",
       " 'Data',\n",
       " 'Science',\n",
       " 'Hola gusto',\n",
       " 'gusto Me',\n",
       " 'Me llamo',\n",
       " 'llamo Sebastián',\n",
       " 'Sebastián estudiando',\n",
       " 'estudiando Data',\n",
       " 'Data Science']"
      ]
     },
     "execution_count": 56,
     "metadata": {},
     "output_type": "execute_result"
    }
   ],
   "source": [
    "#prueba de función de limpieza de datos y microfono\n",
    "clean_city_input(mic_rec())"
   ]
  },
  {
   "cell_type": "code",
   "execution_count": null,
   "metadata": {},
   "outputs": [],
   "source": []
  }
 ],
 "metadata": {
  "kernelspec": {
   "display_name": "Python 3",
   "language": "python",
   "name": "python3"
  },
  "language_info": {
   "codemirror_mode": {
    "name": "ipython",
    "version": 3
   },
   "file_extension": ".py",
   "mimetype": "text/x-python",
   "name": "python",
   "nbconvert_exporter": "python",
   "pygments_lexer": "ipython3",
   "version": "3.8.5"
  }
 },
 "nbformat": 4,
 "nbformat_minor": 4
}
